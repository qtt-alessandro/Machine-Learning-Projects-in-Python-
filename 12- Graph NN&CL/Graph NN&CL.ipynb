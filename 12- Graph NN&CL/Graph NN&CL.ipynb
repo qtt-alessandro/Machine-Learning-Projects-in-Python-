{
  "nbformat": 4,
  "nbformat_minor": 0,
  "metadata": {
    "colab": {
      "name": "citeseer_fin.ipynb",
      "provenance": [],
      "collapsed_sections": []
    },
    "kernelspec": {
      "name": "python3",
      "display_name": "Python 3"
    },
    "language_info": {
      "name": "python"
    }
  },
  "cells": [
    {
      "cell_type": "markdown",
      "source": [
        "#Node Classification in Graph Neural Network \n",
        "## Experimenting with continual learning\n",
        "\n",
        "**Name**: *Alessandro Quattrociocchi*\n",
        "\n",
        "**Matricola**: *1609286*"
      ],
      "metadata": {
        "id": "Jn-f_LpOMioz"
      }
    },
    {
      "cell_type": "code",
      "execution_count": null,
      "metadata": {
        "id": "j3A_37HWuN97",
        "colab": {
          "base_uri": "https://localhost:8080/"
        },
        "outputId": "e62581bd-5e80-421b-d1be-cdf819c66290"
      },
      "outputs": [
        {
          "output_type": "stream",
          "name": "stdout",
          "text": [
            "\u001b[?25l\r\u001b[K     |██▋                             | 10 kB 17.0 MB/s eta 0:00:01\r\u001b[K     |█████▎                          | 20 kB 24.1 MB/s eta 0:00:01\r\u001b[K     |████████                        | 30 kB 29.2 MB/s eta 0:00:01\r\u001b[K     |██████████▋                     | 40 kB 31.9 MB/s eta 0:00:01\r\u001b[K     |█████████████▎                  | 51 kB 33.6 MB/s eta 0:00:01\r\u001b[K     |████████████████                | 61 kB 35.4 MB/s eta 0:00:01\r\u001b[K     |██████████████████▋             | 71 kB 29.0 MB/s eta 0:00:01\r\u001b[K     |█████████████████████▎          | 81 kB 29.3 MB/s eta 0:00:01\r\u001b[K     |████████████████████████        | 92 kB 23.9 MB/s eta 0:00:01\r\u001b[K     |██████████████████████████▌     | 102 kB 24.5 MB/s eta 0:00:01\r\u001b[K     |█████████████████████████████▏  | 112 kB 24.5 MB/s eta 0:00:01\r\u001b[K     |███████████████████████████████▉| 122 kB 24.5 MB/s eta 0:00:01\r\u001b[K     |████████████████████████████████| 123 kB 24.5 MB/s \n",
            "\u001b[?25h"
          ]
        }
      ],
      "source": [
        "! pip install spektral -qqq"
      ]
    },
    {
      "cell_type": "code",
      "source": [
        "import numpy as np\n",
        "import pandas as pd \n",
        "import seaborn as sns\n",
        "from tqdm import tqdm\n",
        "import tensorflow as tf\n",
        "import matplotlib.pyplot as plt\n",
        "from sklearn.utils import shuffle\n",
        "from spektral.layers import GCNConv\n",
        "from numpy.core.numeric import True_\n",
        "from tensorflow.keras.models import Model\n",
        "from tensorflow.keras.optimizers import Adam\n",
        "from tensorflow.keras.layers import Activation\n",
        "from spektral.datasets.citation import Citation\n",
        "from spektral.transforms import LayerPreprocess\n",
        "from spektral.transforms import AdjToSpTensor, GCNFilter\n",
        "from tensorflow.keras.metrics import categorical_accuracy\n",
        "from tensorflow.keras.losses import CategoricalCrossentropy\n",
        "from tensorflow.keras.layers import BatchNormalization, Dropout, Input\n",
        "\n",
        "tf.random.set_seed(1234)\n",
        "np.random.seed(1234)\n"
      ],
      "metadata": {
        "id": "U8MIGNy1uO0J"
      },
      "execution_count": null,
      "outputs": []
    },
    {
      "cell_type": "markdown",
      "source": [
        "# Dataset Presetation"
      ],
      "metadata": {
        "id": "4zP4iABIoaj3"
      }
    },
    {
      "cell_type": "markdown",
      "source": [
        "The CiteSeer is one the datasets available from the Spektral library and consists of 3327 scientific publications classified into one of six classes. The citation network consists of 4732 links. Each publication in the dataset is described by a 0/1-valued word vector indicating the absence/presence of the corresponding word from the dictionary. The dictionary consists of 3703 unique words."
      ],
      "metadata": {
        "id": "wp8vmiWENNIc"
      }
    },
    {
      "cell_type": "code",
      "source": [
        "def convert_sparse_matrix_to_sparse_tensor(X):\n",
        "    \"\"\"\n",
        "    :param X: input tensor (non sparse)\n",
        "    :return: sparse tensor\n",
        "    \"\"\"\n",
        "    coo = X.tocoo()\n",
        "    indices = np.mat([coo.row, coo.col]).transpose()\n",
        "    return tf.SparseTensor(indices, coo.data, coo.shape)"
      ],
      "metadata": {
        "id": "NZ7IOoOnuRfR"
      },
      "execution_count": null,
      "outputs": []
    },
    {
      "cell_type": "markdown",
      "source": [
        "A graph convolutional networks remains valid if we replace the adjacency matrix \n",
        "with another matrix having the same sparsity and which does not change the graph's tolopology. For this reason, we can consider some transofrmations to have better training properties on the training as:\n",
        "\n",
        "- Adding self loops A = A + I \n",
        "- Adjacency matrix normalization $A= D^{-1/2} A D^{-1/2}$\n",
        "According to this two properties i preprocess the dataset using applying GCN transformation."
      ],
      "metadata": {
        "id": "TsNESAIOA2Jp"
      }
    },
    {
      "cell_type": "code",
      "source": [
        "#downloading the graph \n",
        "dataset = Citation('citeseer', normalize=True, transforms=[LayerPreprocess(GCNConv)])\n",
        "#extract the single graph from the dataset\n",
        "graph = dataset[0]\n",
        "#extract node-features matrix, adjacency matrix, labels\n",
        "x, a, y = graph.x, convert_sparse_matrix_to_sparse_tensor(graph.a), graph.y\n",
        "#extract train, validation and test masks \n",
        "mask_tr, mask_va, mask_te = dataset.mask_tr, dataset.mask_va, dataset.mask_te\n",
        "masks = [mask_tr, mask_va, mask_te]"
      ],
      "metadata": {
        "colab": {
          "base_uri": "https://localhost:8080/"
        },
        "id": "23h9qhrjuT7Q",
        "outputId": "4655b6ae-1e50-417f-e6cd-bb3be6601da0"
      },
      "execution_count": null,
      "outputs": [
        {
          "output_type": "stream",
          "name": "stdout",
          "text": [
            "Downloading citeseer dataset.\n"
          ]
        },
        {
          "output_type": "stream",
          "name": "stderr",
          "text": [
            "/usr/local/lib/python3.7/dist-packages/scipy/sparse/_index.py:126: SparseEfficiencyWarning: Changing the sparsity structure of a csr_matrix is expensive. lil_matrix is more efficient.\n",
            "  self._set_arrayXarray(i, j, x)\n"
          ]
        }
      ]
    },
    {
      "cell_type": "code",
      "source": [
        "print(\"Number of nodes: \", graph.n_nodes)\n",
        "print(\"Number of labels:\", graph.n_labels)"
      ],
      "metadata": {
        "colab": {
          "base_uri": "https://localhost:8080/"
        },
        "id": "7APtdtwVOcrE",
        "outputId": "7c07912c-e54e-4818-9286-86aded056731"
      },
      "execution_count": null,
      "outputs": [
        {
          "output_type": "stream",
          "name": "stdout",
          "text": [
            "Number of nodes:  3327\n",
            "Number of labels: 6\n"
          ]
        }
      ]
    },
    {
      "cell_type": "markdown",
      "source": [
        "Below is the number of elements for each class, although for this first part it is not particularly useful, this plot will help a lot to understand how to balance the second splitting of the model. "
      ],
      "metadata": {
        "id": "EEzNOzOvPWNV"
      }
    },
    {
      "cell_type": "code",
      "source": [
        "sns.set_style(\"darkgrid\")\n",
        "classes = np.argmax(y, axis=1)\n",
        "unique, counts = np.unique(classes, return_counts=True)\n",
        "classes_dict = dict(zip(unique, counts))\n",
        "\n",
        "df = pd.DataFrame({\"item\" : classes, \n",
        "                  \"labels\" : len(classes) })\n",
        "\n",
        "ncount = len(df)\n",
        "\n",
        "plt.figure(figsize=(10,6))\n",
        "ax = sns.countplot(x=\"item\", data=df)\n",
        "plt.title('Nodes Distribution over Classes')\n",
        "plt.xlabel('class')\n",
        "\n",
        "for p in ax.patches:\n",
        "    x_df=p.get_bbox().get_points()[:,0]\n",
        "    y_df=p.get_bbox().get_points()[1,1]\n",
        "    ax.annotate('{:.1f}%'.format(100.*y_df/ncount), (x_df.mean(), y_df), \n",
        "            ha='center', va='bottom')"
      ],
      "metadata": {
        "colab": {
          "base_uri": "https://localhost:8080/",
          "height": 404
        },
        "id": "Nq3AJ78YezsZ",
        "outputId": "31583d68-d487-41d2-c956-6fc480252868"
      },
      "execution_count": null,
      "outputs": [
        {
          "output_type": "display_data",
          "data": {
            "image/png": "[encoded data removed]",
            "text/plain": [
              "<Figure size 720x432 with 1 Axes>"
            ]
          },
          "metadata": {}
        }
      ]
    },
    {
      "cell_type": "markdown",
      "source": [
        "# GCN: Graph Convolutional Network "
      ],
      "metadata": {
        "id": "bp0aS0fwoh2y"
      }
    },
    {
      "cell_type": "markdown",
      "source": [
        "Let's report some informations about GCN layer: \n",
        "The graph convolutional layer is defined as: $[H]_{i} = \\phi \\Big(\\sum_{j \\in N_{i}}A_{i,j}W^Tx_j\\Big)$.  \n",
        "CGN Layer can be interpreted as following: \n",
        "- A local node-wise operation $\\hat{x_j} = W^Tx_{j}$\n",
        "- An aggregation with respect to the neighbourhood $\\rightarrow$ Message Passing\n",
        "- Standard non linearity"
      ],
      "metadata": {
        "id": "zJXzlhHnCG9O"
      }
    },
    {
      "cell_type": "markdown",
      "source": [
        "## Model Definition"
      ],
      "metadata": {
        "id": "yUUzDkVGop_I"
      }
    },
    {
      "cell_type": "code",
      "source": [
        "class Net(Model):\n",
        "\n",
        "    \"\"\"\n",
        "    Definition of the model, structured as following: \n",
        "      \n",
        "      - 1 GCN of dimension (node_features, hidden_units)\n",
        "      - 1 Dropout Layer with probability of 0.5\n",
        "      - 1 GCN of dimension (hidden_units, classes)\n",
        "    \"\"\"\n",
        "\n",
        "    def __init__(self,hidden_units=16,dropout=0.5):\n",
        "        super().__init__()\n",
        "\n",
        "        self.conv1 = GCNConv(hidden_units, activation=\"relu\",use_bias=True_)\n",
        "        self.drop1 = Dropout(0.5)\n",
        "        self.conv2 = GCNConv(6, activation=\"softmax\",use_bias=True)\n",
        "\n",
        "    def call(self,inputs):\n",
        "      x, a = inputs\n",
        "      x = self.conv1([x,a]) \n",
        "      x = self.drop1(x)\n",
        "      x = self.conv2([x,a])\n",
        "      return x"
      ],
      "metadata": {
        "id": "oAGlF8WtupKf"
      },
      "execution_count": null,
      "outputs": []
    },
    {
      "cell_type": "markdown",
      "source": [
        "## Building The Custom Training Loop of the Model"
      ],
      "metadata": {
        "id": "Z2HEMcO8os8s"
      }
    },
    {
      "cell_type": "code",
      "source": [
        "class Train:\n",
        "  \"\"\"\n",
        "  The Train class takes care of the \n",
        "  training and evaluation of the model \n",
        "  \"\"\"\n",
        "\n",
        "  def __init__(self, loss_fn ,optimizer):\n",
        "    \"\"\"\n",
        "    :param loss_fn: loss funtion \n",
        "    :param optimizer: model optimizer\n",
        "    \"\"\"\n",
        "    self.loss_fn = loss_fn\n",
        "    self.optimizer = optimizer\n",
        "    super().__init__()\n",
        "\n",
        "\n",
        "  @tf.function\n",
        "  def train(self, model, inputs, y, mask):\n",
        "    \"\"\"\n",
        "    :param model: input model \n",
        "    :param inputs: [x,a] list of node features matrix and adj matrix\n",
        "    :param y: hot encoding vector of labels  \n",
        "    :param mask: graph masking binary matrix according to the dataset split\n",
        "    :return: void function\n",
        "    \"\"\"\n",
        "    with tf.GradientTape() as tape:\n",
        "        predictions = model(inputs, training=True)\n",
        "        loss = self.loss_fn(y[mask], predictions[mask])\n",
        "    gradients = tape.gradient(loss, model.trainable_variables)\n",
        "    self.optimizer.apply_gradients(zip(gradients, model.trainable_variables))\n",
        "\n",
        "  @tf.function\n",
        "  def evaluate(self, model, inputs, y, mask):\n",
        "    \"\"\"\n",
        "    :param model: input model \n",
        "    :param inputs: [x,a] list of node features matrix and adj matrix\n",
        "    :param y: hot encoding vector of labels  \n",
        "    :param mask: graph masking binary matrix according to the dataset split\n",
        "    :return: loss, accuracy (float, float)\n",
        "    \"\"\"\n",
        "    predictions = model(inputs, training=False)\n",
        "    loss = self.loss_fn(y[mask], predictions[mask])\n",
        "    acc = tf.reduce_mean(categorical_accuracy(y[mask], predictions[mask]))\n",
        "    return loss, acc\n",
        "\n",
        "  def fit(self, model, x, a, y, masks, epochs=400, patience=100):\n",
        "      \"\"\"\n",
        "      :param model: input model \n",
        "      :param x: node features matrix\n",
        "      :param a: adj matrix (sparse tensor)\n",
        "      :param y: hot encoding vector of labels  \n",
        "      :param masks: list of binary masks\n",
        "      \"\"\"\n",
        "      tr_mask, va_mask, te_mask = masks\n",
        "      tr_loss, va_loss, te_loss = [],[],[]\n",
        "      tr_acc, va_acc, te_acc = [],[],[]\n",
        "      accuracies, losses = {}, {}\n",
        "      best_val_loss = 99999\n",
        "      best_test_acc = 0\n",
        "      current_patience = patience \n",
        "\n",
        "      for epoch in range(1, epochs+1):\n",
        "\n",
        "        self.train(model, [x,a], y, mask_tr)\n",
        "\n",
        "        tr_loss.append(self.evaluate(model, [x,a], y, tr_mask)[0].numpy())\n",
        "        tr_acc.append(self.evaluate(model, [x,a], y, tr_mask)[1].numpy())\n",
        "\n",
        "        va_loss.append(self.evaluate(model, [x,a], y, va_mask)[0].numpy())\n",
        "        va_acc.append(self.evaluate(model,  [x,a], y, va_mask)[1].numpy()) \n",
        "\n",
        "        te_loss.append(self.evaluate(model, [x,a], y, te_mask)[0].numpy())\n",
        "        te_acc.append(self.evaluate(model,  [x,a], y, te_mask)[1].numpy()) \n",
        "\n",
        "\n",
        "        #Early Stopping Monitoring \n",
        "\n",
        "        if va_loss[-1] < best_val_loss:\n",
        "          best_val_loss = va_loss[-1]\n",
        "          best_test_acc = te_acc[-1]\n",
        "          current_patience = patience\n",
        "          \n",
        "          if (epoch % 10==0):\n",
        "            print(\"Improved\")\n",
        "            print(\"Epoch: {:d}, \"\n",
        "                \"Loss tr: {:.4f}, Acc tr: {:.4f}, \"\n",
        "                \"Loss va: {:.4f}, Acc va: {:.4f}, \"\n",
        "                \"Loss te: {:.4f}, Acc te: {:.4f}\".format(int(epoch), tr_loss[-1], tr_acc[-1], va_loss[-1], va_acc[-1], te_loss[-1], te_acc[-1]))\n",
        "        else:\n",
        "            current_patience -= 1\n",
        "            if current_patience == 0:\n",
        "              print(\"Max patience reached ===> stopping training...\")\n",
        "              break\n",
        "\n",
        "        \n",
        "      losses['train_loss'] = tr_loss\n",
        "      losses['val_loss']   = va_loss\n",
        "      losses['test_loss']  = te_loss\n",
        "\n",
        "      accuracies['train_acc'] = tr_acc\n",
        "      accuracies['val_acc']  = va_acc\n",
        "      accuracies['test_acc']  = te_acc"
      ],
      "metadata": {
        "id": "XCcfNNoTurvC"
      },
      "execution_count": null,
      "outputs": []
    },
    {
      "cell_type": "markdown",
      "source": [
        "## Fitting the Model"
      ],
      "metadata": {
        "id": "3SHGQjq4o0Xr"
      }
    },
    {
      "cell_type": "code",
      "source": [
        "#initializing the model with number of hidden layer and dropout value\n",
        "model = Net(hidden_units=16,dropout=0.5)\n",
        "#setting the optimizer and learning rate\n",
        "optimizer = Adam(learning_rate=0.001)\n",
        "#selecting the Categorical Loss function\n",
        "loss_fn = CategoricalCrossentropy()\n",
        "#initializing the Train class with the loss function and the optimizer\n",
        "train_model = Train(loss_fn ,optimizer)"
      ],
      "metadata": {
        "id": "SIrqw58Nu4Ef"
      },
      "execution_count": null,
      "outputs": []
    },
    {
      "cell_type": "code",
      "source": [
        "model.summary()"
      ],
      "metadata": {
        "colab": {
          "base_uri": "https://localhost:8080/"
        },
        "id": "-vYBU6w2oIhR",
        "outputId": "bc53b7a0-9578-42db-978d-4c2c71c12dff"
      },
      "execution_count": null,
      "outputs": [
        {
          "output_type": "stream",
          "name": "stdout",
          "text": [
            "Model: \"net\"\n",
            "_________________________________________________________________\n",
            " Layer (type)                Output Shape              Param #   \n",
            "=================================================================\n",
            " gcn_conv (GCNConv)          multiple                  59264     \n",
            "                                                                 \n",
            " dropout (Dropout)           multiple                  0         \n",
            "                                                                 \n",
            " gcn_conv_1 (GCNConv)        multiple                  102       \n",
            "                                                                 \n",
            "=================================================================\n",
            "Total params: 59,366\n",
            "Trainable params: 59,366\n",
            "Non-trainable params: 0\n",
            "_________________________________________________________________\n"
          ]
        }
      ]
    },
    {
      "cell_type": "code",
      "source": [
        "# model fitting\n",
        "train_model.fit(model, x, a, y, masks, epochs= 300, patience = 20)"
      ],
      "metadata": {
        "colab": {
          "base_uri": "https://localhost:8080/"
        },
        "id": "RnPlc7h4u-an",
        "outputId": "64f39751-d6be-4554-f27f-9932fb1f6f4d"
      },
      "execution_count": null,
      "outputs": [
        {
          "output_type": "stream",
          "name": "stdout",
          "text": [
            "Improved\n",
            "Epoch: 10, Loss tr: 1.5896, Acc tr: 0.6417, Loss va: 1.7182, Acc va: 0.3040, Loss te: 1.7234, Acc te: 0.2630\n",
            "Improved\n",
            "Epoch: 20, Loss tr: 1.3547, Acc tr: 0.7500, Loss va: 1.6412, Acc va: 0.3320, Loss te: 1.6492, Acc te: 0.3030\n",
            "Improved\n",
            "Epoch: 30, Loss tr: 1.1288, Acc tr: 0.7917, Loss va: 1.5666, Acc va: 0.3780, Loss te: 1.5759, Acc te: 0.3470\n",
            "Improved\n",
            "Epoch: 40, Loss tr: 0.9346, Acc tr: 0.8333, Loss va: 1.4980, Acc va: 0.4300, Loss te: 1.5091, Acc te: 0.3920\n",
            "Improved\n",
            "Epoch: 50, Loss tr: 0.7693, Acc tr: 0.9250, Loss va: 1.4345, Acc va: 0.4680, Loss te: 1.4483, Acc te: 0.4370\n",
            "Improved\n",
            "Epoch: 60, Loss tr: 0.6320, Acc tr: 0.9583, Loss va: 1.3769, Acc va: 0.5220, Loss te: 1.3926, Acc te: 0.4940\n",
            "Improved\n",
            "Epoch: 70, Loss tr: 0.5170, Acc tr: 0.9750, Loss va: 1.3270, Acc va: 0.5480, Loss te: 1.3451, Acc te: 0.5340\n",
            "Improved\n",
            "Epoch: 80, Loss tr: 0.4214, Acc tr: 0.9917, Loss va: 1.2790, Acc va: 0.5680, Loss te: 1.2991, Acc te: 0.5530\n",
            "Improved\n",
            "Epoch: 90, Loss tr: 0.3438, Acc tr: 1.0000, Loss va: 1.2419, Acc va: 0.5820, Loss te: 1.2638, Acc te: 0.5720\n",
            "Improved\n",
            "Epoch: 100, Loss tr: 0.2809, Acc tr: 1.0000, Loss va: 1.2099, Acc va: 0.5880, Loss te: 1.2346, Acc te: 0.5840\n",
            "Improved\n",
            "Epoch: 110, Loss tr: 0.2311, Acc tr: 1.0000, Loss va: 1.1860, Acc va: 0.6080, Loss te: 1.2126, Acc te: 0.5940\n",
            "Improved\n",
            "Epoch: 120, Loss tr: 0.1915, Acc tr: 1.0000, Loss va: 1.1665, Acc va: 0.6180, Loss te: 1.1950, Acc te: 0.5990\n",
            "Improved\n",
            "Epoch: 130, Loss tr: 0.1603, Acc tr: 1.0000, Loss va: 1.1508, Acc va: 0.6220, Loss te: 1.1824, Acc te: 0.6040\n",
            "Improved\n",
            "Epoch: 140, Loss tr: 0.1352, Acc tr: 1.0000, Loss va: 1.1395, Acc va: 0.6240, Loss te: 1.1703, Acc te: 0.6090\n",
            "Improved\n",
            "Epoch: 150, Loss tr: 0.1152, Acc tr: 1.0000, Loss va: 1.1267, Acc va: 0.6300, Loss te: 1.1587, Acc te: 0.6120\n",
            "Improved\n",
            "Epoch: 170, Loss tr: 0.0860, Acc tr: 1.0000, Loss va: 1.1257, Acc va: 0.6300, Loss te: 1.1590, Acc te: 0.6140\n",
            "Improved\n",
            "Epoch: 180, Loss tr: 0.0750, Acc tr: 1.0000, Loss va: 1.1188, Acc va: 0.6320, Loss te: 1.1532, Acc te: 0.6200\n",
            "Max patience reached ===> stopping training...\n"
          ]
        }
      ]
    },
    {
      "cell_type": "markdown",
      "source": [
        "# Part 2: EWC - Elastic Weights Consolidation "
      ],
      "metadata": {
        "id": "b-gMZERao6Sl"
      }
    },
    {
      "cell_type": "markdown",
      "source": [
        "## Multi Tasks Splitting of the Dataset"
      ],
      "metadata": {
        "id": "QbtP46mnpDsJ"
      }
    },
    {
      "cell_type": "markdown",
      "source": [
        "#### The idea behind the splitting\n",
        "The dataset contains a very high number of testing examples and a very low number of training and validation examples. Since, as we have seen in the previous point, the training of the model is characterised by a high overfitting value, I have re-indexed the whole dataset in order to have more data for training. \n",
        "#### The idea behid the Multi-Head Model\n",
        "In this case, since the graph is a connected structure that we cannot divide each node independently (as images) since they depend on the topology of the graph itself, i performed the multi-task by considering different masks for each of the tasks.  \n",
        "Three masks, one per each tasks, are created: \n",
        "- Task A $\\rightarrow$ classes $[0,3]$ \n",
        "- Task B $\\rightarrow$ classes $[2,5]$ \n",
        "- Task A $\\rightarrow$ classes $[1,4]$ \n",
        "\n",
        "This allowed me to train the model considering the whole graph as input but to minimise the loss function through GDA considering only the labels of each single task."
      ],
      "metadata": {
        "id": "0MVu9gvaEx28"
      }
    },
    {
      "cell_type": "code",
      "source": [
        "class MultiTasksSplitting:\n",
        "  def __init__(self, y, n_nodes, selection):\n",
        "    super(MultiTasksSplitting,self).__init__()\n",
        "\n",
        "    self.classes = np.argmax(y, axis=1)\n",
        "    self.n_classes = 6 \n",
        "    self.selection = selection\n",
        "    self.n_nodes = n_nodes \n",
        "\n",
        "  def _get_classes_indexes(self,selection):    \n",
        "    \"\"\"\n",
        "    :param selection: the selected task \n",
        "    :return: void function\n",
        "    \"\"\"\n",
        "    if selection == \"task_A\":\n",
        "      #selecting the class 0 and class 3 and bindign them together\n",
        "      self.task = np.where(np.isin(self.classes, [0,3]))[0]\n",
        "    elif selection == \"task_B\":\n",
        "      #selecting the class 2 and class 5 and bindign them together\n",
        "      self.task = np.where(np.isin(self.classes, [2,5]))[0]\n",
        "    elif selection == \"task_C\":\n",
        "      #selecting the class 2 and class 5 and bindign them together\n",
        "      self.task = np.where(np.isin(self.classes, [1,4]))[0]\n",
        "\n",
        "  def _get_split_idx(self, task_idx_array):\n",
        "     \n",
        "    \"\"\"\n",
        "    This function split data into train, validation and test arrays\n",
        "\n",
        "    :param task_idx_array: array of the index divided per task\n",
        "    :return: bool arrays of train, validation and test\n",
        "    \"\"\"\n",
        "    shuffle(task_idx_array)\n",
        "    n = len(task_idx_array)\n",
        "    idx_tr = task_idx_array[0:int(n*0.7)]\n",
        "    idx_va = task_idx_array[int(n*0.8):int(n*0.9)]\n",
        "    idx_te = task_idx_array[int(n*0.9):]\n",
        "    return idx_tr, idx_va, idx_te\n",
        "\n",
        "  def task_to_mask(self):\n",
        "    \"\"\"\n",
        "    This function masks the index genereted from _get_split_idx \n",
        "    by creating a boolean matrix. \n",
        "    :return: list of train, val and test task\n",
        "    \"\"\"\n",
        "    self._get_classes_indexes(self.selection)\n",
        "    idx_tr, idx_va, idx_te = self._get_split_idx(self.task)\n",
        "    mask_tr = np.zeros(self.n_nodes, dtype=bool)\n",
        "    mask_va = np.zeros(self.n_nodes, dtype=bool)\n",
        "    mask_te = np.zeros(self.n_nodes, dtype=bool)\n",
        "    mask_tr[idx_tr] = True\n",
        "    mask_va[idx_va] = True\n",
        "    mask_te[idx_te] = True\n",
        "    masks = [mask_tr, mask_va, mask_te]\n",
        "    return masks\n"
      ],
      "metadata": {
        "id": "0C60C98-vAC9"
      },
      "execution_count": null,
      "outputs": []
    },
    {
      "cell_type": "markdown",
      "source": [
        "## Splitting the dataset according to the tasks"
      ],
      "metadata": {
        "id": "SbfhkdtPr2dL"
      }
    },
    {
      "cell_type": "code",
      "source": [
        "#extracting the number of nodes\n",
        "N = dataset.n_nodes\n",
        "#########################################\n",
        "#splitting and masking task A \n",
        "split_tasks = MultiTasksSplitting(y, N, selection=\"task_A\")\n",
        "masks_task_A = split_tasks.task_to_mask()\n",
        "#########################################\n",
        "#splitting and masking task B\n",
        "split_tasks = MultiTasksSplitting(y, N, selection=\"task_B\")\n",
        "masks_task_B = split_tasks.task_to_mask()\n",
        "#########################################\n",
        "#splitting and masking task C\n",
        "split_tasks = MultiTasksSplitting(y, N, selection=\"task_C\")\n",
        "masks_task_C = split_tasks.task_to_mask()"
      ],
      "metadata": {
        "id": "sLm5_t-dr14O"
      },
      "execution_count": null,
      "outputs": []
    },
    {
      "cell_type": "markdown",
      "source": [
        "## How to extract informations from the trained task: The Fisher Information Matrix"
      ],
      "metadata": {
        "id": "W70T57vVpRdJ"
      }
    },
    {
      "cell_type": "code",
      "source": [
        "def get_fisher_matrix(model, x, a, y, mask):\n",
        "  \"\"\"\n",
        "  This function computes the fisher matrix \n",
        "  :param model: input model \n",
        "  :param x: node-features matrix\n",
        "  :param a: adjacency matrix\n",
        "  :param y: one hot encoder of the label class\n",
        "  :params mask: binary mask of the weights\n",
        "  :return: fisher matrix\n",
        "  \"\"\"\n",
        "  fisher_matrix = {n: tf.zeros_like(p.value()) for n, p in enumerate(model.trainable_variables)}\n",
        "  for idx,node in (enumerate(tqdm(mask))):\n",
        "    if node:\n",
        "      with tf.GradientTape() as tape:\n",
        "        #compute the prediction of the model\n",
        "        predictions = model([x,a])\n",
        "        #compute the loss function with respect to the labels\n",
        "        loss = loss_fn(y[idx], predictions[idx])\n",
        "      #compute the gradients\n",
        "      gradients = tape.gradient(loss, model.weights)\n",
        "\n",
        "      for idx, weight in enumerate(gradients):\n",
        "        #square of the gradient\n",
        "        fisher_matrix[idx] += gradients[idx]**2 \n",
        "  for idx, weight in enumerate(gradients):\n",
        "    #normalizing the fisher matrix with respect to the training examples\n",
        "    fisher_matrix[idx] /= sum(mask)\n",
        "  return fisher_matrix"
      ],
      "metadata": {
        "id": "PHW9_Ix206yr"
      },
      "execution_count": null,
      "outputs": []
    },
    {
      "cell_type": "markdown",
      "source": [
        "### Task Incremental Approach: Regularization Method to Overcome Catastrofic Forgetting"
      ],
      "metadata": {
        "id": "G75keIk7pdJl"
      }
    },
    {
      "cell_type": "code",
      "source": [
        "class Elastic_Weights_Consolidation():\n",
        "  \"\"\"\n",
        "  This class implements the Elastic Weights Consolidation,\n",
        "  a technique used in continual learning to overcome the catastrophic forgetting \n",
        "  in streaming application.\n",
        "  \"\"\"\n",
        "  def __init__(self, loss_fn ,optimizer):\n",
        "    \"\"\"\n",
        "    :param loss_fn: loss function \n",
        "    :param optimizer: optimizer of the training phase\n",
        "    \"\"\"\n",
        "    super().__init__()\n",
        "    self.loss_fn = loss_fn\n",
        "    self.optimizer = optimizer\n",
        "\n",
        "  def compute_penalty_loss(self, fisher_matrix, weights, prior_weights,lambda_):\n",
        "    \"\"\"\n",
        "    This function compute the penalty loss introduced \n",
        "    to keep track of the past tasks that the model has learned.\n",
        "\n",
        "    :param loss_fn: loss function \n",
        "    :param optimizer: optimizer of the training phase\n",
        "    \"\"\"\n",
        "    penalty = 0.\n",
        "    for u, v, w in zip(fisher_matrix, weights, prior_weights):\n",
        "        penalty += tf.math.reduce_sum(u * tf.math.square(v - w))\n",
        "    return 0.5 * lambda_ * penalty\n",
        "  \n",
        "  @staticmethod\n",
        "  def weights_deep_copy(model):\n",
        "    \"\"\"\n",
        "    Creating a deep capy of the weights\n",
        "    :param model: input model\n",
        "    :return: list of the weights\n",
        "    \"\"\"\n",
        "    old_thetas = []\n",
        "    thetas = model.get_weights()\n",
        "    for ii in range(len(thetas)):\n",
        "      old_thetas.append(thetas[ii])\n",
        "    return old_thetas\n",
        "\n",
        "  def train_ewc(self, model, mask, fisher_matrix=None, prior_weights=None, lambda_=15):\n",
        "    \"\"\"\n",
        "    :param model: input model \n",
        "    :param mask: binary train mask\n",
        "    :param fisher_matrix: input matrix\n",
        "    :param prior_weights: weights of the model trained over the previous task\n",
        "    :param lambda: int, regularization parameter that weights the penalty loss\n",
        "    \"\"\"\n",
        "    with tf.GradientTape() as tape:\n",
        "      pred = model([x, a])\n",
        "      loss = self.loss_fn(y[mask], pred[mask])\n",
        "      #if the fisher matrix is provided, the penalty loss is then computed\n",
        "      if fisher_matrix is not None:\n",
        "        loss += self.compute_penalty_loss(fisher_matrix, model.trainable_variables, prior_weights, lambda_)\n",
        "      gradients = tape.gradient(loss, model.trainable_variables)\n",
        "      self.optimizer.apply_gradients(zip(gradients, model.trainable_variables))\n",
        "      return model\n",
        "\n",
        "  @staticmethod\n",
        "  def evaluate(x, a, y, model, masks_dict, epoch_num, verbose=True):\n",
        "    \"\"\"\n",
        "    This function evaluates the model over all the masks: train, validation and test\n",
        "\n",
        "    :param x: node-features matrix \n",
        "    :param a: adjacency matrix \n",
        "    :param y: one hot-encoder matrix\n",
        "    :param model: input model\n",
        "    :param masks_dict: mask dictionary that contains all the possible combinations of the masks\n",
        "    :param epoch_num: (int) number of the epochs to train\n",
        "    :param verbose: bool, if True print the statistics of the training\n",
        "    \"\"\"\n",
        "    mask_tr_A = masks_dict['task_A'][0]\n",
        "    mask_tr_B = masks_dict['task_B'][0]\n",
        "    mask_tr_C = masks_dict['task_C'][0]\n",
        "\n",
        "    mask_va_A = masks_dict['task_A'][1]\n",
        "    mask_va_B = masks_dict['task_B'][1]\n",
        "    mask_va_C = masks_dict['task_C'][1]\n",
        "\n",
        "    mask_te_A = masks_dict['task_A'][2]\n",
        "    mask_te_B = masks_dict['task_B'][2]\n",
        "    mask_te_C = masks_dict['task_C'][2]\n",
        "\n",
        "    pred = model([x,a]).numpy().argmax(axis=1)\n",
        "    \n",
        "    acc_tr_A = (pred[mask_tr_A] == y[mask_tr_A].argmax(axis=1)).mean()\n",
        "    acc_tr_B = (pred[mask_tr_B] == y[mask_tr_B].argmax(axis=1)).mean()\n",
        "    acc_tr_C = (pred[mask_tr_C] == y[mask_tr_C].argmax(axis=1)).mean()\n",
        "\n",
        "    acc_va_A = (pred[mask_va_A] == y[mask_va_A].argmax(axis=1)).mean()\n",
        "    acc_va_B = (pred[mask_va_B] == y[mask_va_B].argmax(axis=1)).mean()\n",
        "    acc_va_C = (pred[mask_va_C] == y[mask_va_C].argmax(axis=1)).mean()\n",
        "\n",
        "    acc_te_A = (pred[mask_te_A] == y[mask_te_A].argmax(axis=1)).mean()\n",
        "    acc_te_B = (pred[mask_te_B] == y[mask_te_B].argmax(axis=1)).mean()\n",
        "    acc_te_C = (pred[mask_te_C] == y[mask_te_C].argmax(axis=1)).mean()\n",
        "\n",
        "    if verbose:\n",
        "      print(\n",
        "            \"Acc tr A: {:.4f}, Acc va A: {:.4f}, \"\n",
        "            \"Acc tr B: {:.4f}, Acc va B: {:.4f}, \"\n",
        "            \"Acc tr C: {:.4f}, Acc va C: {:.4f}, \".format(acc_tr_A, acc_va_A, acc_tr_B, acc_tr_B, acc_tr_C, acc_va_C))\n",
        "\n",
        "    return [acc_te_A, acc_te_B, acc_te_C]"
      ],
      "metadata": {
        "id": "Hz6-M_HyJ1Z9"
      },
      "execution_count": null,
      "outputs": []
    },
    {
      "cell_type": "markdown",
      "source": [
        "# Defining Proper Metrics for EWC"
      ],
      "metadata": {
        "id": "vOhFLsyRD8wR"
      }
    },
    {
      "cell_type": "markdown",
      "source": [
        "In this part i want to define new metrics related to continuous learning. For the sake of clarity, we introduce global accuracy, a unique value of the overall accuracy value over all the tasks. \n",
        "Finally, the backward transfer, which indicates how much having trained the model on the new task has affected the performance of the model: negative values show a worsening of performance as training epochs increase. "
      ],
      "metadata": {
        "id": "7g7rfs8KIhFe"
      }
    },
    {
      "cell_type": "code",
      "source": [
        "class BackwardTransfer(tf.keras.metrics.Metric):\n",
        "  \"\"\"\n",
        "  This function evaluates the model over all the masks: train, validation and test\n",
        "\n",
        "  :param x: node-features matrix \n",
        "  :param a: adjacency matrix \n",
        "  :param y: one hot-encoder matrix\n",
        "  :param model: input model\n",
        "  :param masks_dict: mask dictionary that contains all the possible combinations of the masks\n",
        "  :param epoch_num: (int) number of the epochs to train\n",
        "  :param verbose: bool, if True print the statistics of the training\n",
        "  \"\"\"\n",
        "\n",
        "  def __init__(self, epochs):\n",
        "    self.epochs = epochs\n",
        "    super(BackwardTransfer, self).__init__()\n",
        "\n",
        "\n",
        "  def update_state(self, n_tasks, acc_te_A, acc_te_B, acc_te_C= None):\n",
        "    \"\"\"\n",
        "    This function evaluates the model over all the masks: train, validation and test\n",
        "\n",
        "    :param n_task: numbers of task to be solved\n",
        "    :param acc_te_A: list of accuracues of task A \n",
        "    :param acc_te_B: list of accuracues of task A\n",
        "    :param acc_te_C: list of accuracues of task A\n",
        "    \"\"\"\n",
        "\n",
        "    self.global_acc = 0 \n",
        "    self.bkw_transfer = 0 \n",
        "\n",
        "    if n_tasks == 2: \n",
        "      acc_te_task_A_11 = acc_te_A[self.epochs-1]\n",
        "      acc_te_task_A_21 = acc_te_A[2*self.epochs-1]\n",
        "      acc_te_task_B_22 = acc_te_B[2*self.epochs-1]\n",
        "      self.global_acc = (acc_te_task_A_11 + acc_te_task_A_21 + acc_te_task_B_22)/(0.5*n_tasks*(n_tasks+1))\n",
        "      self.bkw_transfer = (acc_te_task_A_21 - acc_te_task_A_11)/(0.5*n_tasks*(n_tasks-1))\n",
        "\n",
        "    elif n_tasks == 3: \n",
        "      acc_te_task_A_11 = acc_te_A[self.epochs-1]\n",
        "      acc_te_task_A_21 = acc_te_A[2*self.epochs-1]\n",
        "      acc_te_task_A_31 = acc_te_A[3*self.epochs-1]\n",
        "\n",
        "      acc_te_task_B_22 = acc_te_B[2*self.epochs-1]\n",
        "      acc_te_task_B_32 = acc_te_B[3*self.epochs-1]\n",
        "\n",
        "\n",
        "      self.global_acc = (acc_te_task_A_11 + acc_te_task_A_21 + acc_te_task_A_31 + acc_te_task_B_22 + acc_te_task_B_32)/(0.5*n_tasks*(n_tasks+1))\n",
        "      self.bkw_transfer = ((acc_te_task_A_21 - acc_te_task_A_11)+(acc_te_task_B_32 - acc_te_task_B_22))/(0.5*n_tasks*(n_tasks-1))\n",
        "\n",
        "\n",
        "  def result(self):\n",
        "    \"\"\"\n",
        "    :return tuple(global_acc, backward_transfer): ewc metrics\n",
        "    \"\"\"\n",
        "    return self.global_acc,self.bkw_transfer "
      ],
      "metadata": {
        "id": "XF7AdPlzECx9"
      },
      "execution_count": null,
      "outputs": []
    },
    {
      "cell_type": "code",
      "source": [
        "#creating a dictionary with the overall tasks splitting \n",
        "tasks_dict = {'task_A':masks_task_A,\n",
        "              'task_B': masks_task_B,\n",
        "              'task_C': masks_task_C}"
      ],
      "metadata": {
        "id": "p0t7LZ9Z_jvn"
      },
      "execution_count": null,
      "outputs": []
    },
    {
      "cell_type": "code",
      "source": [
        "#setting the epochs\n",
        "epochs = 90 \n",
        "#initializing the Elastic weights consolidation class\n",
        "ewc = Elastic_Weights_Consolidation(loss_fn,optimizer)\n",
        "#initializing the ewc metrics\n",
        "ewc_metrics = BackwardTransfer(epochs)\n",
        "#defining the model\n",
        "multihead_model = Net()"
      ],
      "metadata": {
        "id": "2zmO5qR-BQOe"
      },
      "execution_count": null,
      "outputs": []
    },
    {
      "cell_type": "markdown",
      "source": [
        "# Task A"
      ],
      "metadata": {
        "id": "uw9rAed7_Qx1"
      }
    },
    {
      "cell_type": "code",
      "source": [
        "#initializing three different lists for the test accuracy of tasks A,B,C.\n",
        "acc_te_task_A, acc_te_task_B, acc_te_task_C = [], [], []\n",
        "#fitting the model\n",
        "for epoch in range(0,epochs):\n",
        "  model_A = ewc.train_ewc(multihead_model, masks_task_A[0],lambda_=0)\n",
        "  #evaluates the model\n",
        "  accuracies = ewc.evaluate(x, a, y, model_A,tasks_dict, epoch, verbose=False)\n",
        "  #filling all the results\n",
        "  acc_te_task_A.append(accuracies[0])\n",
        "  acc_te_task_B.append(accuracies[1])\n",
        "  acc_te_task_C.append(accuracies[2])\n",
        "print(\"=========================== Sigle Evaluation\")\n",
        "print(\"Test Accuracy On Task A:\",round(acc_te_task_A[-1],4))\n",
        "print(\"Test Accuracy On Task B:\",round(acc_te_task_B[-1],4))\n",
        "print(\"Test Accuracy On Task C:\",round(acc_te_task_C[-1],4))"
      ],
      "metadata": {
        "colab": {
          "base_uri": "https://localhost:8080/"
        },
        "id": "Mk_H-9r4BU_Z",
        "outputId": "96732b19-4ce2-4e2a-de5f-5ce8f03b3a2e"
      },
      "execution_count": null,
      "outputs": [
        {
          "output_type": "stream",
          "name": "stdout",
          "text": [
            "=========================== Sigle Evaluation\n",
            "Test Accuracy On Task A: 0.8454\n",
            "Test Accuracy On Task B: 0.0\n",
            "Test Accuracy On Task C: 0.0\n"
          ]
        }
      ]
    },
    {
      "cell_type": "code",
      "source": [
        "#storing the old thetas\n",
        "old_thetas_A = ewc.weights_deep_copy(model_A)\n",
        "#computing the fisher matrix\n",
        "fisher_mat_A = get_fisher_matrix(model_A, x, a, y, masks_task_A[0])"
      ],
      "metadata": {
        "id": "cJxgeR6NBa_x",
        "colab": {
          "base_uri": "https://localhost:8080/"
        },
        "outputId": "54c76219-0935-4e9f-b9e9-0d7496a75e74"
      },
      "execution_count": null,
      "outputs": [
        {
          "output_type": "stream",
          "name": "stderr",
          "text": [
            "100%|██████████| 3327/3327 [00:44<00:00, 74.37it/s]\n"
          ]
        }
      ]
    },
    {
      "cell_type": "markdown",
      "source": [
        "# Task B "
      ],
      "metadata": {
        "id": "VKnEMbJ_45m5"
      }
    },
    {
      "cell_type": "code",
      "source": [
        "for epoch in range(0,epochs):\n",
        "  model_B = ewc.train_ewc(model_A, masks_task_B[0],fisher_mat_A,old_thetas_A,lambda_=1.8)\n",
        "  accuracies = ewc.evaluate(x, a, y, model_B,tasks_dict, epoch, verbose=False)\n",
        "\n",
        "  acc_te_task_A.append(accuracies[0])\n",
        "  acc_te_task_B.append(accuracies[1])\n",
        "  acc_te_task_C.append(accuracies[2])\n",
        "\n",
        "print(\"=========================== Single Evaluation\")\n",
        "print(\"Test Accuracy On Task A:\",round(acc_te_task_A[-1],4))\n",
        "print(\"Test Accuracy On Task B:\",round(acc_te_task_B[-1],4))\n",
        "print(\"Test Accuracy On Task C:\",round(acc_te_task_C[-1],4))\n",
        "print(\"=========================== Global Evaluation\")\n",
        "#printing the global ewc metrics\n",
        "ewc_metrics.update_state(2, acc_te_task_A, acc_te_task_B)\n",
        "print(\"Global Accuracy Task B: \", round(ewc_metrics.result().numpy()[0],4))\n",
        "print(\"Backward Transfer Task B: \", round(ewc_metrics.result().numpy()[1],4))"
      ],
      "metadata": {
        "colab": {
          "base_uri": "https://localhost:8080/"
        },
        "id": "emDRInzi43W7",
        "outputId": "db17689b-8b8c-4b28-c06e-c82510a95388"
      },
      "execution_count": null,
      "outputs": [
        {
          "output_type": "stream",
          "name": "stdout",
          "text": [
            "=========================== Single Evaluation\n",
            "Test Accuracy On Task A: 0.5464\n",
            "Test Accuracy On Task B: 0.7627\n",
            "Test Accuracy On Task C: 0.0\n",
            "=========================== Global Evaluation\n",
            "Global Accuracy Task B:  0.7182\n",
            "Backward Transfer Task B:  -0.299\n"
          ]
        }
      ]
    },
    {
      "cell_type": "code",
      "source": [
        "old_thetas_B = ewc.weights_deep_copy(model_B)\n",
        "fisher_mat_B = get_fisher_matrix(model_B, x, a, y, masks_task_B[0])"
      ],
      "metadata": {
        "colab": {
          "base_uri": "https://localhost:8080/"
        },
        "id": "Nig7cbOC7gph",
        "outputId": "1a3d617a-5557-4fbe-cb67-c1dc1c61618a"
      },
      "execution_count": null,
      "outputs": [
        {
          "output_type": "stream",
          "name": "stderr",
          "text": [
            "100%|██████████| 3327/3327 [00:55<00:00, 60.09it/s]\n"
          ]
        }
      ]
    },
    {
      "cell_type": "code",
      "source": [
        "fisher_mat_AB = {n: tf.zeros_like(p.value()) for n, p in enumerate(multihead_model.trainable_variables)}\n",
        "\n",
        "for i in range(4):\n",
        "  #summing the two different matrices\n",
        "  fisher_mat_AB[i] = fisher_mat_A[i] + fisher_mat_B[i]"
      ],
      "metadata": {
        "id": "nwDJONoG6Rae"
      },
      "execution_count": null,
      "outputs": []
    },
    {
      "cell_type": "markdown",
      "source": [
        "# Task C"
      ],
      "metadata": {
        "id": "Ws18lc3v5n21"
      }
    },
    {
      "cell_type": "code",
      "source": [
        "for epoch in range(0,epochs):\n",
        "  model_C = ewc.train_ewc(model_B, masks_task_C[0],fisher_mat_AB,old_thetas_B,lambda_=1.85)\n",
        "  accuracies = ewc.evaluate(x, a, y, model_C,tasks_dict, epoch, verbose=False)\n",
        "\n",
        "  acc_te_task_A.append(accuracies[0])\n",
        "  acc_te_task_B.append(accuracies[1])\n",
        "  acc_te_task_C.append(accuracies[2])\n",
        "print(\"=========================== Single Evaluation\")\n",
        "print(\"Test Accuracy On Task A:\",round(acc_te_task_A[-1],4))\n",
        "print(\"Test Accuracy On Task B:\",round(acc_te_task_B[-1],4))\n",
        "print(\"Test Accuracy On Task C:\",round(acc_te_task_C[-1],4))\n",
        "print(\"=========================== Global Evaluation\")\n",
        "ewc_metrics.update_state(3, acc_te_task_A, acc_te_task_B, acc_te_task_C)\n",
        "print(\"Global Accuracy Task C: \", round(ewc_metrics.result().numpy()[0],4))\n",
        "print(\"Backward Transfer Task C: \", round(ewc_metrics.result().numpy()[1],4))\n"
      ],
      "metadata": {
        "colab": {
          "base_uri": "https://localhost:8080/"
        },
        "id": "E-Lf9-w8CzCA",
        "outputId": "4c201098-6830-475d-d543-a05f7e52c49d"
      },
      "execution_count": null,
      "outputs": [
        {
          "output_type": "stream",
          "name": "stdout",
          "text": [
            "=========================== Single Evaluation\n",
            "Test Accuracy On Task A: 0.5361\n",
            "Test Accuracy On Task B: 0.6271\n",
            "Test Accuracy On Task C: 0.8235\n",
            "=========================== Global Evaluation\n",
            "Global Accuracy Task C:  0.5529\n",
            "Backward Transfer Task C:  -0.1449\n"
          ]
        }
      ]
    },
    {
      "cell_type": "markdown",
      "source": [
        "# Final Plot "
      ],
      "metadata": {
        "id": "PqHK7AeFE_BV"
      }
    },
    {
      "cell_type": "markdown",
      "source": [
        "This final plot shows the fraction of correct examples on the test set; the numerical values are reported directly on the plot. \n",
        "The main figure consists of 3 sub-plots: \n",
        "- The first one shows the changes of test accuracy of task A as we train task B and C. \n",
        "- The second shows the trend of task B as we train task C.\n",
        "- The third shows the trend of task C while training. "
      ],
      "metadata": {
        "id": "r0uKJJh3KFhk"
      }
    },
    {
      "cell_type": "code",
      "source": [
        "from matplotlib.gridspec import GridSpec\n",
        "fig = plt.figure(figsize=(17, 7))\n",
        "gs = GridSpec(nrows=3, ncols=1)\n",
        "\n",
        "#First Plot\n",
        "ax0 = fig.add_subplot(gs[0, 0])\n",
        "ax0.set_ylim(0, 1)\n",
        "ax0.set_xlim(-1, 3*epochs+2)\n",
        "plt.vlines(x=[0, epochs, 2*epochs, 3*epochs], ymin=0, ymax=1, colors='black', ls='--', lw=1.1)\n",
        "ax0.plot(acc_te_task_A, color='red')\n",
        "\n",
        "ax0.plot(epochs,acc_te_task_A[epochs],'x', color='black', markersize=10) \n",
        "ax0.plot(2*epochs,acc_te_task_A[(2*epochs)-1],'x', color='black', markersize=10) \n",
        "ax0.plot(3*epochs,acc_te_task_A[3*epochs-1],'x', color='black', markersize=10) \n",
        "ax0.annotate('Acc Te \\n'+ str(round(acc_te_task_A[epochs],3)),xy=(epochs+2,acc_te_task_A[epochs]-0.2))\n",
        "ax0.annotate('Acc Te \\n'+ str(round(acc_te_task_A[2*epochs],3)),xy=(2*epochs+1,acc_te_task_A[2*epochs-1]-0.2))\n",
        "ax0.annotate('Acc Te \\n'+ str(round(acc_te_task_A[(3*epochs)-1],3)),xy=((3*epochs)-10,acc_te_task_A[(3*epochs)-10]-0.2))\n",
        "\n",
        "#Second Plot\n",
        "ax1 = fig.add_subplot(gs[1, 0])\n",
        "ax1.set_ylim(0, 1)\n",
        "ax1.set_xlim(-1, 3*epochs+2)\n",
        "ax1.vlines(x=[0, epochs, 2*epochs, 3*epochs], ymin=0, ymax=1, colors='black', ls='--', lw=1.1)\n",
        "\n",
        "ax1.plot(acc_te_task_B, color='blue')\n",
        "ax1.plot(2*epochs,acc_te_task_B[(2*epochs)-1],'x', color='black', markersize=10)\n",
        "ax1.plot(3*epochs,acc_te_task_B[3*epochs-1],'x', color='black', markersize=10)\n",
        "ax1.annotate('Acc Te \\n'+ str(round(acc_te_task_B[2*epochs],3)),xy=((2*epochs)+2,acc_te_task_B[2*epochs]-0.2))\n",
        "ax1.annotate('Acc Te \\n'+ str(round(acc_te_task_B[(3*epochs-1)],3)),xy=(3*epochs-10,acc_te_task_B[3*epochs-10]-0.2))\n",
        "\n",
        "#Third Plot\n",
        "ax2 = fig.add_subplot(gs[2, 0])\n",
        "ax2.set_ylim(0, 1)\n",
        "ax2.set_xlim(-1, 3*epochs+2)\n",
        "ax2.vlines(x=[0, epochs, 2*epochs, 3*epochs], ymin=0, ymax=1, colors='black', ls='--', lw=1.1)\n",
        "\n",
        "ax2.plot(acc_te_task_C,color='green')\n",
        "ax2.plot(3*epochs,acc_te_task_C[(3*epochs)-1],'x', color='black', markersize=10)\n",
        "ax2.annotate('Acc Te \\n'+ str(round(acc_te_task_C[(3*epochs-1)],3)),xy=((3*epochs)-10,acc_te_task_C[(3*epochs)-10]-0.2))\n",
        "plt.annotate('Task A', xy =(int(epochs/1.9), 0.07), fontweight=\"bold\", fontsize=12)\n",
        "plt.annotate('Task B', xy =(int((3/2)*epochs), 0.07), fontweight=\"bold\", fontsize=12)\n",
        "ax2.annotate('Task C', xy =(int(2.45*epochs), 0.07), fontweight=\"bold\", fontsize=12)\n",
        "\n",
        "fig.suptitle('Accuracy over tasks',fontweight=\"bold\", size=20)\n",
        "plt.ylabel(\"Fract. Correct\", size=12)\n",
        "plt.xlabel(\"epochs\", size=12)\n",
        "\n",
        "plt.show()"
      ],
      "metadata": {
        "colab": {
          "base_uri": "https://localhost:8080/",
          "height": 496
        },
        "id": "WTdbKf1qmyYC",
        "outputId": "6f6aa473-d759-4c05-fd1c-3971879b0203"
      },
      "execution_count": null,
      "outputs": [
        {
          "output_type": "display_data",
          "data": {
            "image/png": "[encoded data removed]",
            "text/plain": [
              "<Figure size 1224x504 with 3 Axes>"
            ]
          },
          "metadata": {}
        }
      ]
    },
    {
      "cell_type": "markdown",
      "source": [
        "# References"
      ],
      "metadata": {
        "id": "hRCP_8obMX9l"
      }
    },
    {
      "cell_type": "markdown",
      "source": [
        "- [Overcoming catastrophic forgetting in neural networks](https://arxiv.org/abs/1612.00796)\n",
        "- [SEMI-SUPERVISED CLASSIFICATION WITH\n",
        "GRAPH CONVOLUTIONAL NETWORKS](https://arxiv.org/pdf/1609.02907.pdf)\n",
        "- [ stijani /\n",
        "elastic-weight-consolidation-tf2\n",
        "](https://github.com/stijani/elastic-weight-consolidation-tf2)\n",
        "- https://andrewliao11.github.io/blog/fisher-info-matrix/"
      ],
      "metadata": {
        "id": "3m18sTearMm4"
      }
    }
  ]
}