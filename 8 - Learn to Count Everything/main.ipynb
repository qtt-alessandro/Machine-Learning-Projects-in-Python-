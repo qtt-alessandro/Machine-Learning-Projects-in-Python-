{
  "cells": [
    {
      "cell_type": "markdown",
      "metadata": {
        "id": "wuh98bWP7pE7"
      },
      "source": [
        "# Training"
      ]
    },
    {
      "cell_type": "code",
      "execution_count": 3,
      "metadata": {
        "colab": {
          "base_uri": "https://localhost:8080/"
        },
        "id": "bmx-BUA5mgee",
        "outputId": "6bf12bef-4acc-4e1b-8a39-12a9dcc70e44"
      },
      "outputs": [
        {
          "name": "stdout",
          "output_type": "stream",
          "text": [
            "Mounted at /content/drive\n"
          ]
        }
      ],
      "source": [
        "from google.colab import drive\n",
        "drive._mount('/content/drive')"
      ]
    },
    {
      "cell_type": "code",
      "execution_count": 5,
      "metadata": {
        "id": "xS-FW1CjR_XK"
      },
      "outputs": [],
      "source": [
        "import os\n",
        "os.chdir('/content/drive/MyDrive/LearningToCountEverything_new')"
      ]
    },
    {
      "cell_type": "code",
      "execution_count": 6,
      "metadata": {
        "id": "Di5ANiM_7pE8"
      },
      "outputs": [],
      "source": [
        "# Import Everything\n",
        "import torch.nn as nn\n",
        "from model import *\n",
        "from utils_ltce import MAPS, Scales, Transform,TransformTrain,extract_features, visualize_output_and_save\n",
        "from PIL import Image\n",
        "import os\n",
        "import torch\n",
        "import argparse\n",
        "import json\n",
        "import numpy as np\n",
        "from tqdm import tqdm\n",
        "from os.path import exists,join\n",
        "import random\n",
        "import torch.optim as optim\n",
        "import torch.nn.functional as F\n",
        "import cv2\n",
        "import matplotlib.pyplot as plt\n",
        "from collections import defaultdict\n",
        "import torchvision.ops.boxes as bops\n",
        "from funcs import *"
      ]
    },
    {
      "cell_type": "code",
      "execution_count": 7,
      "metadata": {
        "colab": {
          "base_uri": "https://localhost:8080/"
        },
        "id": "Lb-W31Qk9VDQ",
        "outputId": "e3d501e5-17ca-4eb3-f0a1-d725c852fc11"
      },
      "outputs": [
        {
          "name": "stdout",
          "output_type": "stream",
          "text": [
            "=====> GPU\n"
          ]
        }
      ],
      "source": [
        "# Flag to enable GPU or not\n",
        "enable_gpu = True\n",
        "if enable_gpu:\n",
        "  print(\"=====> GPU\")\n",
        "else:\n",
        "  print(\"=====> CPU\")"
      ]
    },
    {
      "cell_type": "code",
      "execution_count": 8,
      "metadata": {
        "colab": {
          "base_uri": "https://localhost:8080/",
          "height": 86,
          "referenced_widgets": [
            "edc99d3c52f345b9b4cf69d1c7b05e38",
            "2828348ea6a64105acde9a1b2f11ee1b",
            "74eb727ea7434c5aae5ba256640fbd8d",
            "254b4992ef02470cad909163cbc77c77",
            "ac98a0f1e80f4139a39a5531076bd8b7",
            "be8ff63484ae4ef8b779cef748591447",
            "09f0f1f48ac349cf8d5883c414d6e83b",
            "ac0ca54ca55c4a31981ee594fb4f2c49",
            "383fd37fce0a46b0b516fac0c897a513",
            "5357734847484bf995c9b01f74a5ac3f",
            "ec5b7650739f495db2e1cfeaf0692873"
          ]
        },
        "id": "vgK6nUil7pE9",
        "outputId": "a96d0a4c-d00a-4955-8817-51ec818fbb05"
      },
      "outputs": [
        {
          "name": "stderr",
          "output_type": "stream",
          "text": [
            "Downloading: \"https://download.pytorch.org/models/resnet50-0676ba61.pth\" to /root/.cache/torch/hub/checkpoints/resnet50-0676ba61.pth\n"
          ]
        },
        {
          "data": {
            "application/vnd.jupyter.widget-view+json": {
              "model_id": "edc99d3c52f345b9b4cf69d1c7b05e38",
              "version_major": 2,
              "version_minor": 0
            },
            "text/plain": [
              "  0%|          | 0.00/97.8M [00:00<?, ?B/s]"
            ]
          },
          "metadata": {},
          "output_type": "display_data"
        }
      ],
      "source": [
        "# Setting relevant paths\n",
        "data_path = '/content/drive/MyDrive/LearningToCountEverything_new/data/'\n",
        "image_path = '/content/drive/MyDrive/Colab Notebooks/LearningToCountEverything/data/'\n",
        "output_dir = \"./logsSave\"\n",
        "check_dir = \"./checkpoints\"\n",
        "test_split = \"train\" #choices=[\"train\", \"test\", \"val\"]\n",
        "gpu_id = 0 \n",
        "learning_rate = 1e-5\n",
        "anno_file = image_path + 'annotation_FSC147_384.json'\n",
        "data_split_file = image_path + 'Train_Test_Val_FSC_147.json'\n",
        "im_dir = image_path + 'images_384_VarV2'\n",
        "gt_dir = image_path + 'gt_density_map_adaptive_384_VarV2'\n",
        "\n",
        "# Choosing the specific Regressor Class \n",
        "# (our --> CountRegressorAML)\n",
        "# (baseline --> CountRegressor)\n",
        "regressor = CountRegressorAML(6, pool='mean')\n",
        "\n",
        "# Setting initial weights\n",
        "weights_normal_init(regressor, dev=0.001)\n",
        "\n",
        "# Backbone for feature extraction\n",
        "# Resnet50FPN\n",
        "# VGG16\n",
        "backbone_model = Resnet50FPN()\n",
        "\n",
        "# Setting parameters and variables accordingly based on use of GPU or CPU\n",
        "if enable_gpu: \n",
        "    regressor.cuda()\n",
        "    regressor.train()\n",
        "    criterion = nn.MSELoss().cuda()\n",
        "    backbone_model.cuda()\n",
        "    backbone_model.eval()\n",
        "    os.environ[\"CUDA_DEVICE_ORDER\"] = \"PCI_BUS_ID\"\n",
        "    os.environ[\"CUDA_VISIBLE_DEVICES\"] = str(gpu_id)\n",
        "else: \n",
        "    regressor.train()\n",
        "    criterion = nn.MSELoss()\n",
        "    backbone_model.eval()\n",
        "\n",
        "# Trainig Optimizer\n",
        "optimizer = optim.Adam(regressor.parameters(), lr = learning_rate)\n",
        "\n",
        "if not exists(output_dir):\n",
        "    os.mkdir(output_dir)\n",
        "\n",
        "if not exists(check_dir):\n",
        "    os.mkdir(check_dir)  "
      ]
    },
    {
      "cell_type": "code",
      "execution_count": 9,
      "metadata": {
        "id": "jnDoX1RX7pE9"
      },
      "outputs": [],
      "source": [
        "with open(anno_file) as f:\n",
        "    annotations = json.load(f)\n",
        "\n",
        "with open(data_split_file) as f:\n",
        "    data_split = json.load(f)"
      ]
    },
    {
      "cell_type": "code",
      "execution_count": 10,
      "metadata": {
        "colab": {
          "base_uri": "https://localhost:8080/"
        },
        "id": "0_W3jXuR7pE-",
        "outputId": "9e9e05c0-2d00-4efc-cb8b-81037a2ae70a"
      },
      "outputs": [
        {
          "name": "stderr",
          "output_type": "stream",
          "text": [
            "Downloading: \"https://github.com/ultralytics/yolov5/archive/master.zip\" to /root/.cache/torch/hub/master.zip\n"
          ]
        },
        {
          "name": "stdout",
          "output_type": "stream",
          "text": [
            "Downloading https://ultralytics.com/assets/Arial.ttf to /root/.config/Ultralytics/Arial.ttf...\n",
            "\u001b[31m\u001b[1mrequirements:\u001b[0m PyYAML>=5.3.1 not found and is required by YOLOv5, attempting auto-update...\n"
          ]
        },
        {
          "name": "stderr",
          "output_type": "stream",
          "text": [
            "YOLOv5 🚀 2021-12-13 torch 1.10.0+cu111 CUDA:0 (Tesla K80, 11441MiB)\n",
            "\n"
          ]
        },
        {
          "name": "stdout",
          "output_type": "stream",
          "text": [
            "Collecting PyYAML>=5.3.1\n",
            "  Downloading PyYAML-6.0-cp37-cp37m-manylinux_2_5_x86_64.manylinux1_x86_64.manylinux_2_12_x86_64.manylinux2010_x86_64.whl (596 kB)\n",
            "Installing collected packages: PyYAML\n",
            "  Attempting uninstall: PyYAML\n",
            "    Found existing installation: PyYAML 3.13\n",
            "    Uninstalling PyYAML-3.13:\n",
            "      Successfully uninstalled PyYAML-3.13\n",
            "Successfully installed PyYAML-6.0\n",
            "\n",
            "\u001b[31m\u001b[1mrequirements:\u001b[0m 1 package updated per /root/.cache/torch/hub/ultralytics_yolov5_master/requirements.txt\n",
            "\u001b[31m\u001b[1mrequirements:\u001b[0m ⚠️ \u001b[1mRestart runtime or rerun command for updates to take effect\u001b[0m\n",
            "\n"
          ]
        },
        {
          "name": "stderr",
          "output_type": "stream",
          "text": [
            "Fusing layers... \n",
            "Model Summary: 476 layers, 76726332 parameters, 0 gradients\n",
            "Adding AutoShape... \n"
          ]
        }
      ],
      "source": [
        "# Load pretrained YOLO Model\n",
        "model_yolo = torch.hub.load('ultralytics/yolov5', 'yolov5l6', pretrained=True)"
      ]
    },
    {
      "cell_type": "code",
      "execution_count": 11,
      "metadata": {
        "id": "YycEV3xl7pE-"
      },
      "outputs": [],
      "source": [
        "import warnings\n",
        "warnings.filterwarnings(\"ignore\")"
      ]
    },
    {
      "cell_type": "code",
      "execution_count": null,
      "metadata": {
        "colab": {
          "base_uri": "https://localhost:8080/"
        },
        "id": "rcQ8RSiB7pE-",
        "outputId": "88fca93b-ace7-46f2-cef6-5b38f1622698"
      },
      "outputs": [],
      "source": [
        "%matplotlib inline\n",
        "# Most relevant parameters to be considered are:\n",
        "# - epochs: number of epochs for training phase\n",
        "# - yolo_flag: Whether we want to enhance additional boxes through the pre-trained yolo model\n",
        "# - yolo_threshold: If it is an integer take max that value of boxes, if it is a probaility, take all boxes with a probabilty higher than that\n",
        "# - load_checkpoint: Used to load a specific checkpoint\n",
        "run_train_phase(epochs=40, backbone_model=backbone_model, regressor=regressor, yolo_model=model_yolo,\n",
        "                optimizer=optimizer, criterion=criterion, annotations=annotations, \n",
        "                data_train=data_split['train'], shuffle=True, data_val=data_split['val'], \n",
        "                num_img_train=len(data_split['train']), num_img_val=len(data_split['val']), \n",
        "                yolo_flag=True, yolo_threshold=3, \n",
        "                plot_flag=False, \n",
        "                save='/content/drive/MyDrive/LearningToCountEverything_new/data/pretainedModelsOurs/model_resnet_yolo.pth', \n",
        "                im_dir=im_dir, gt_dir=gt_dir,\n",
        "                enable_gpu=enable_gpu, augment=True, \n",
        "                checkpoint_dir='checkpoints/', \n",
        "                #load_checkpoint=False)\n",
        "                load_checkpoint='/content/drive/MyDrive/LearningToCountEverything_new/checkpoints/checkpoint14.pt')"
      ]
    },
    {
      "cell_type": "markdown",
      "metadata": {
        "id": "l8Dn-P797pE_"
      },
      "source": [
        "# Testing"
      ]
    },
    {
      "cell_type": "code",
      "execution_count": null,
      "metadata": {
        "id": "fjIQW06aSzN7"
      },
      "outputs": [],
      "source": [
        "import torch.nn as nn\n",
        "from model import Resnet50FPN, CountRegressor, weights_normal_init, weights_xavier_init\n",
        "from utils_ltce import MAPS, Scales, Transform,TransformTrain,extract_features, visualize_output_and_save\n",
        "from PIL import Image\n",
        "import os\n",
        "import torch\n",
        "import argparse\n",
        "import json\n",
        "import numpy as np\n",
        "from tqdm import tqdm\n",
        "from os.path import exists,join\n",
        "import random\n",
        "import torch.optim as optim\n",
        "import torch.nn.functional as F\n",
        "import cv2\n",
        "import matplotlib.pyplot as plt\n",
        "from collections import defaultdict\n",
        "import torchvision.ops.boxes as bops\n",
        "from funcs import *"
      ]
    },
    {
      "cell_type": "code",
      "execution_count": null,
      "metadata": {
        "id": "wa3iCU0WEH3E"
      },
      "outputs": [],
      "source": [
        "data_path = '/content/drive/MyDrive/LearningToCountEverything_new/data/'\n",
        "output_dir = \"./logsSave\"\n",
        "test_split = \"test\" #choices=[\"train\", \"test\", \"val\"]\n",
        "gpu = 0 \n",
        "learning_rate = 1e-5\n",
        "anno_file = data_path + 'annotation_FSC147_384.json'\n",
        "data_split_file = data_path + 'Train_Test_Val_FSC_147.json'\n",
        "im_dir = data_path + 'images_384_VarV2'\n",
        "gt_dir = data_path + 'gt_density_map_adaptive_384_VarV2'\n",
        "\n",
        "\n",
        "regressor = CountRegressorAML(6, pool='mean')\n",
        "\n",
        "# Optimizer will not be used, but needed to load a checkpoint...\n",
        "optimizer = optim.Adam(regressor.parameters(), lr = learning_rate)\n",
        "\n",
        "backbone_model = Resnet50FPN()\n",
        "\n",
        "if enable_gpu: \n",
        "\n",
        "  regressor.cuda()\n",
        "  regressor.eval()\n",
        "  criterion = nn.MSELoss().cuda()\n",
        "  backbone_model.cuda()\n",
        "  backbone_model.eval()\n",
        "\n",
        "else: \n",
        "  regressor.train()\n",
        "  criterion = nn.MSELoss()\n",
        "  backbone_model.eval()\n",
        "\n",
        "optimizer = optim.Adam(regressor.parameters(), lr = learning_rate)\n",
        "\n",
        "if not exists(output_dir):\n",
        "    os.mkdir(output_dir)\n",
        "\n",
        "os.environ[\"CUDA_DEVICE_ORDER\"] = \"PCI_BUS_ID\"\n",
        "os.environ[\"CUDA_VISIBLE_DEVICES\"] = str(gpu)"
      ]
    },
    {
      "cell_type": "code",
      "execution_count": null,
      "metadata": {
        "id": "FgMfssLi7pFA"
      },
      "outputs": [],
      "source": [
        "with open(anno_file) as f:\n",
        "    annotations = json.load(f)\n",
        "\n",
        "with open(data_split_file) as f:\n",
        "    data_split = json.load(f)"
      ]
    },
    {
      "cell_type": "code",
      "execution_count": null,
      "metadata": {
        "colab": {
          "base_uri": "https://localhost:8080/"
        },
        "id": "sdL08XMl7pFB",
        "outputId": "debfbc1d-1fda-4901-a8e4-71deed7f6217"
      },
      "outputs": [
        {
          "name": "stderr",
          "output_type": "stream",
          "text": [
            "Using cache found in /root/.cache/torch/hub/ultralytics_yolov5_master\n",
            "YOLOv5 🚀 2021-12-12 torch 1.10.0+cu111 CUDA:0 (Tesla K80, 11441MiB)\n",
            "\n",
            "Fusing layers... \n",
            "Model Summary: 476 layers, 76726332 parameters, 0 gradients\n",
            "Adding AutoShape... \n"
          ]
        }
      ],
      "source": [
        "model_yolo = torch.hub.load('ultralytics/yolov5', 'yolov5l6', pretrained=True)"
      ]
    },
    {
      "cell_type": "code",
      "execution_count": null,
      "metadata": {
        "id": "XLKdAAl17pFB"
      },
      "outputs": [],
      "source": [
        "import warnings\n",
        "warnings.filterwarnings(\"ignore\")"
      ]
    },
    {
      "cell_type": "code",
      "execution_count": null,
      "metadata": {
        "id": "qFTmaCHR7pFB"
      },
      "outputs": [],
      "source": [
        "%matplotlib inline\n",
        "res = test(data=data_split['test'], \n",
        "          #num_img=2,\n",
        "          num_img=len(data_split['test']), \n",
        "          backbone_model=backbone_model, regressor=regressor, optimizer=optimizer,\n",
        "          yolo_model=model_yolo, yolo_flag=True, yolo_threshold=3, annotations=annotations, \n",
        "          plot_flag=False, im_dir=im_dir, enable_gpu=enable_gpu, \n",
        "          model_path=best_model_dir,\n",
        "          adapt=False, gradient_steps=100, learning_rate=1e-7)"
      ]
    },
    {
      "cell_type": "code",
      "execution_count": null,
      "metadata": {
        "id": "aDOFEOMDGWqV"
      },
      "outputs": [],
      "source": []
    }
  ],
  "metadata": {
    "accelerator": "GPU",
    "colab": {
      "collapsed_sections": [],
      "name": "complete.ipynb",
      "provenance": []
    },
    "interpreter": {
      "hash": "6576bbb3ea8043231b63aded6960e6ea5b863559976330c0515cb191a60ecccc"
    },
    "kernelspec": {
      "display_name": "Python 3.7.11 64-bit ('fscount': conda)",
      "language": "python",
      "name": "python3"
    },
    "language_info": {
      "codemirror_mode": {
        "name": "ipython",
        "version": 3
      },
      "file_extension": ".py",
      "mimetype": "text/x-python",
      "name": "python",
      "nbconvert_exporter": "python",
      "pygments_lexer": "ipython3",
      "version": "3.7.11"
    },
    "orig_nbformat": 4,
    "widgets": {
      "application/vnd.jupyter.widget-state+json": {
        "09f0f1f48ac349cf8d5883c414d6e83b": {
          "model_module": "@jupyter-widgets/base",
          "model_module_version": "1.2.0",
          "model_name": "LayoutModel",
          "state": {
            "_model_module": "@jupyter-widgets/base",
            "_model_module_version": "1.2.0",
            "_model_name": "LayoutModel",
            "_view_count": null,
            "_view_module": "@jupyter-widgets/base",
            "_view_module_version": "1.2.0",
            "_view_name": "LayoutView",
            "align_content": null,
            "align_items": null,
            "align_self": null,
            "border": null,
            "bottom": null,
            "display": null,
            "flex": null,
            "flex_flow": null,
            "grid_area": null,
            "grid_auto_columns": null,
            "grid_auto_flow": null,
            "grid_auto_rows": null,
            "grid_column": null,
            "grid_gap": null,
            "grid_row": null,
            "grid_template_areas": null,
            "grid_template_columns": null,
            "grid_template_rows": null,
            "height": null,
            "justify_content": null,
            "justify_items": null,
            "left": null,
            "margin": null,
            "max_height": null,
            "max_width": null,
            "min_height": null,
            "min_width": null,
            "object_fit": null,
            "object_position": null,
            "order": null,
            "overflow": null,
            "overflow_x": null,
            "overflow_y": null,
            "padding": null,
            "right": null,
            "top": null,
            "visibility": null,
            "width": null
          }
        },
        "254b4992ef02470cad909163cbc77c77": {
          "model_module": "@jupyter-widgets/controls",
          "model_module_version": "1.5.0",
          "model_name": "FloatProgressModel",
          "state": {
            "_dom_classes": [],
            "_model_module": "@jupyter-widgets/controls",
            "_model_module_version": "1.5.0",
            "_model_name": "FloatProgressModel",
            "_view_count": null,
            "_view_module": "@jupyter-widgets/controls",
            "_view_module_version": "1.5.0",
            "_view_name": "ProgressView",
            "bar_style": "success",
            "description": "",
            "description_tooltip": null,
            "layout": "IPY_MODEL_383fd37fce0a46b0b516fac0c897a513",
            "max": 102530333,
            "min": 0,
            "orientation": "horizontal",
            "style": "IPY_MODEL_ac0ca54ca55c4a31981ee594fb4f2c49",
            "value": 102530333
          }
        },
        "2828348ea6a64105acde9a1b2f11ee1b": {
          "model_module": "@jupyter-widgets/base",
          "model_module_version": "1.2.0",
          "model_name": "LayoutModel",
          "state": {
            "_model_module": "@jupyter-widgets/base",
            "_model_module_version": "1.2.0",
            "_model_name": "LayoutModel",
            "_view_count": null,
            "_view_module": "@jupyter-widgets/base",
            "_view_module_version": "1.2.0",
            "_view_name": "LayoutView",
            "align_content": null,
            "align_items": null,
            "align_self": null,
            "border": null,
            "bottom": null,
            "display": null,
            "flex": null,
            "flex_flow": null,
            "grid_area": null,
            "grid_auto_columns": null,
            "grid_auto_flow": null,
            "grid_auto_rows": null,
            "grid_column": null,
            "grid_gap": null,
            "grid_row": null,
            "grid_template_areas": null,
            "grid_template_columns": null,
            "grid_template_rows": null,
            "height": null,
            "justify_content": null,
            "justify_items": null,
            "left": null,
            "margin": null,
            "max_height": null,
            "max_width": null,
            "min_height": null,
            "min_width": null,
            "object_fit": null,
            "object_position": null,
            "order": null,
            "overflow": null,
            "overflow_x": null,
            "overflow_y": null,
            "padding": null,
            "right": null,
            "top": null,
            "visibility": null,
            "width": null
          }
        },
        "383fd37fce0a46b0b516fac0c897a513": {
          "model_module": "@jupyter-widgets/base",
          "model_module_version": "1.2.0",
          "model_name": "LayoutModel",
          "state": {
            "_model_module": "@jupyter-widgets/base",
            "_model_module_version": "1.2.0",
            "_model_name": "LayoutModel",
            "_view_count": null,
            "_view_module": "@jupyter-widgets/base",
            "_view_module_version": "1.2.0",
            "_view_name": "LayoutView",
            "align_content": null,
            "align_items": null,
            "align_self": null,
            "border": null,
            "bottom": null,
            "display": null,
            "flex": null,
            "flex_flow": null,
            "grid_area": null,
            "grid_auto_columns": null,
            "grid_auto_flow": null,
            "grid_auto_rows": null,
            "grid_column": null,
            "grid_gap": null,
            "grid_row": null,
            "grid_template_areas": null,
            "grid_template_columns": null,
            "grid_template_rows": null,
            "height": null,
            "justify_content": null,
            "justify_items": null,
            "left": null,
            "margin": null,
            "max_height": null,
            "max_width": null,
            "min_height": null,
            "min_width": null,
            "object_fit": null,
            "object_position": null,
            "order": null,
            "overflow": null,
            "overflow_x": null,
            "overflow_y": null,
            "padding": null,
            "right": null,
            "top": null,
            "visibility": null,
            "width": null
          }
        },
        "5357734847484bf995c9b01f74a5ac3f": {
          "model_module": "@jupyter-widgets/controls",
          "model_module_version": "1.5.0",
          "model_name": "DescriptionStyleModel",
          "state": {
            "_model_module": "@jupyter-widgets/controls",
            "_model_module_version": "1.5.0",
            "_model_name": "DescriptionStyleModel",
            "_view_count": null,
            "_view_module": "@jupyter-widgets/base",
            "_view_module_version": "1.2.0",
            "_view_name": "StyleView",
            "description_width": ""
          }
        },
        "74eb727ea7434c5aae5ba256640fbd8d": {
          "model_module": "@jupyter-widgets/controls",
          "model_module_version": "1.5.0",
          "model_name": "HTMLModel",
          "state": {
            "_dom_classes": [],
            "_model_module": "@jupyter-widgets/controls",
            "_model_module_version": "1.5.0",
            "_model_name": "HTMLModel",
            "_view_count": null,
            "_view_module": "@jupyter-widgets/controls",
            "_view_module_version": "1.5.0",
            "_view_name": "HTMLView",
            "description": "",
            "description_tooltip": null,
            "layout": "IPY_MODEL_09f0f1f48ac349cf8d5883c414d6e83b",
            "placeholder": "​",
            "style": "IPY_MODEL_be8ff63484ae4ef8b779cef748591447",
            "value": "100%"
          }
        },
        "ac0ca54ca55c4a31981ee594fb4f2c49": {
          "model_module": "@jupyter-widgets/controls",
          "model_module_version": "1.5.0",
          "model_name": "ProgressStyleModel",
          "state": {
            "_model_module": "@jupyter-widgets/controls",
            "_model_module_version": "1.5.0",
            "_model_name": "ProgressStyleModel",
            "_view_count": null,
            "_view_module": "@jupyter-widgets/base",
            "_view_module_version": "1.2.0",
            "_view_name": "StyleView",
            "bar_color": null,
            "description_width": ""
          }
        },
        "ac98a0f1e80f4139a39a5531076bd8b7": {
          "model_module": "@jupyter-widgets/controls",
          "model_module_version": "1.5.0",
          "model_name": "HTMLModel",
          "state": {
            "_dom_classes": [],
            "_model_module": "@jupyter-widgets/controls",
            "_model_module_version": "1.5.0",
            "_model_name": "HTMLModel",
            "_view_count": null,
            "_view_module": "@jupyter-widgets/controls",
            "_view_module_version": "1.5.0",
            "_view_name": "HTMLView",
            "description": "",
            "description_tooltip": null,
            "layout": "IPY_MODEL_ec5b7650739f495db2e1cfeaf0692873",
            "placeholder": "​",
            "style": "IPY_MODEL_5357734847484bf995c9b01f74a5ac3f",
            "value": " 97.8M/97.8M [00:00&lt;00:00, 116MB/s]"
          }
        },
        "be8ff63484ae4ef8b779cef748591447": {
          "model_module": "@jupyter-widgets/controls",
          "model_module_version": "1.5.0",
          "model_name": "DescriptionStyleModel",
          "state": {
            "_model_module": "@jupyter-widgets/controls",
            "_model_module_version": "1.5.0",
            "_model_name": "DescriptionStyleModel",
            "_view_count": null,
            "_view_module": "@jupyter-widgets/base",
            "_view_module_version": "1.2.0",
            "_view_name": "StyleView",
            "description_width": ""
          }
        },
        "ec5b7650739f495db2e1cfeaf0692873": {
          "model_module": "@jupyter-widgets/base",
          "model_module_version": "1.2.0",
          "model_name": "LayoutModel",
          "state": {
            "_model_module": "@jupyter-widgets/base",
            "_model_module_version": "1.2.0",
            "_model_name": "LayoutModel",
            "_view_count": null,
            "_view_module": "@jupyter-widgets/base",
            "_view_module_version": "1.2.0",
            "_view_name": "LayoutView",
            "align_content": null,
            "align_items": null,
            "align_self": null,
            "border": null,
            "bottom": null,
            "display": null,
            "flex": null,
            "flex_flow": null,
            "grid_area": null,
            "grid_auto_columns": null,
            "grid_auto_flow": null,
            "grid_auto_rows": null,
            "grid_column": null,
            "grid_gap": null,
            "grid_row": null,
            "grid_template_areas": null,
            "grid_template_columns": null,
            "grid_template_rows": null,
            "height": null,
            "justify_content": null,
            "justify_items": null,
            "left": null,
            "margin": null,
            "max_height": null,
            "max_width": null,
            "min_height": null,
            "min_width": null,
            "object_fit": null,
            "object_position": null,
            "order": null,
            "overflow": null,
            "overflow_x": null,
            "overflow_y": null,
            "padding": null,
            "right": null,
            "top": null,
            "visibility": null,
            "width": null
          }
        },
        "edc99d3c52f345b9b4cf69d1c7b05e38": {
          "model_module": "@jupyter-widgets/controls",
          "model_module_version": "1.5.0",
          "model_name": "HBoxModel",
          "state": {
            "_dom_classes": [],
            "_model_module": "@jupyter-widgets/controls",
            "_model_module_version": "1.5.0",
            "_model_name": "HBoxModel",
            "_view_count": null,
            "_view_module": "@jupyter-widgets/controls",
            "_view_module_version": "1.5.0",
            "_view_name": "HBoxView",
            "box_style": "",
            "children": [
              "IPY_MODEL_74eb727ea7434c5aae5ba256640fbd8d",
              "IPY_MODEL_254b4992ef02470cad909163cbc77c77",
              "IPY_MODEL_ac98a0f1e80f4139a39a5531076bd8b7"
            ],
            "layout": "IPY_MODEL_2828348ea6a64105acde9a1b2f11ee1b"
          }
        }
      }
    }
  },
  "nbformat": 4,
  "nbformat_minor": 0
}
