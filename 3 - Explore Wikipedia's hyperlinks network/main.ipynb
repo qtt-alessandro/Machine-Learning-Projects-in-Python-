{
 "cells": [
  {
   "cell_type": "markdown",
   "metadata": {},
   "source": [
    "# Main notebook"
   ]
  },
  {
   "cell_type": "markdown",
   "metadata": {},
   "source": [
    "### Preprocessing"
   ]
  },
  {
   "cell_type": "code",
   "execution_count": 49,
   "metadata": {},
   "outputs": [],
   "source": [
    "import pandas as pd \n",
    "import json \n",
    "import os\n",
    "import random\n",
    "from tqdm import tqdm \n",
    "import pickle \n",
    "from collections import defaultdict\n",
    "from collections import Counter\n",
    "from functions import *\n",
    "import numpy as np\n",
    "import scipy.sparse as sp\n",
    "import matplotlib.pyplot as plt \n",
    "from collections import Counter\n",
    "import networkx as nx\n",
    "from prettytable import PrettyTable"
   ]
  },
  {
   "cell_type": "code",
   "execution_count": 2,
   "metadata": {},
   "outputs": [],
   "source": [
    "\"\"\"\n",
    "Renaming the columns dataset\n",
    "\"\"\"\n",
    "df = pd.read_csv(\"data/wikigraph_reduced.csv\", sep='\\t') \n",
    "df.columns = [\"Edges\",'Source', 'Target']"
   ]
  },
  {
   "cell_type": "code",
   "execution_count": 3,
   "metadata": {},
   "outputs": [
    {
     "data": {
      "text/html": [
       "<div>\n",
       "<style scoped>\n",
       "    .dataframe tbody tr th:only-of-type {\n",
       "        vertical-align: middle;\n",
       "    }\n",
       "\n",
       "    .dataframe tbody tr th {\n",
       "        vertical-align: top;\n",
       "    }\n",
       "\n",
       "    .dataframe thead th {\n",
       "        text-align: right;\n",
       "    }\n",
       "</style>\n",
       "<table border=\"1\" class=\"dataframe\">\n",
       "  <thead>\n",
       "    <tr style=\"text-align: right;\">\n",
       "      <th></th>\n",
       "      <th>Edges</th>\n",
       "      <th>Source</th>\n",
       "      <th>Target</th>\n",
       "    </tr>\n",
       "  </thead>\n",
       "  <tbody>\n",
       "    <tr>\n",
       "      <th>0</th>\n",
       "      <td>796</td>\n",
       "      <td>95</td>\n",
       "      <td>1185516</td>\n",
       "    </tr>\n",
       "    <tr>\n",
       "      <th>1</th>\n",
       "      <td>909</td>\n",
       "      <td>108</td>\n",
       "      <td>1059989</td>\n",
       "    </tr>\n",
       "    <tr>\n",
       "      <th>2</th>\n",
       "      <td>910</td>\n",
       "      <td>108</td>\n",
       "      <td>1062426</td>\n",
       "    </tr>\n",
       "    <tr>\n",
       "      <th>3</th>\n",
       "      <td>911</td>\n",
       "      <td>108</td>\n",
       "      <td>1161925</td>\n",
       "    </tr>\n",
       "    <tr>\n",
       "      <th>4</th>\n",
       "      <td>1141</td>\n",
       "      <td>134</td>\n",
       "      <td>541222</td>\n",
       "    </tr>\n",
       "  </tbody>\n",
       "</table>\n",
       "</div>"
      ],
      "text/plain": [
       "   Edges  Source   Target\n",
       "0    796      95  1185516\n",
       "1    909     108  1059989\n",
       "2    910     108  1062426\n",
       "3    911     108  1161925\n",
       "4   1141     134   541222"
      ]
     },
     "execution_count": 3,
     "metadata": {},
     "output_type": "execute_result"
    }
   ],
   "source": [
    "df.head(5)"
   ]
  },
  {
   "cell_type": "code",
   "execution_count": 4,
   "metadata": {},
   "outputs": [],
   "source": [
    "\"\"\"\n",
    "save renamed dataset into a csv file\n",
    "\"\"\"\n",
    "df.to_csv('data/dataset.csv', index=False)"
   ]
  },
  {
   "cell_type": "code",
   "execution_count": 5,
   "metadata": {
    "scrolled": false
   },
   "outputs": [
    {
     "name": "stderr",
     "output_type": "stream",
     "text": [
      "1791489it [00:02, 752120.36it/s]\n"
     ]
    }
   ],
   "source": [
    "\"\"\"\n",
    "Looping over the txt file named \"wiki-topcats-page-names.txt\", \n",
    "we build a dictionary with key an integer and as value the name (as string) the name of the page. \n",
    "This index allows to work directly with page indexes.\n",
    "keys: number of the page (article)\n",
    "values: name of the page (article)\n",
    "\"\"\"\n",
    "\n",
    "p = open(\"data/wiki-topcats-page-names.txt\", \"r\")\n",
    "pages = {}\n",
    "for pag in tqdm(p): \n",
    "    list_ = pag.split()[1:]\n",
    "    aux = ' '.join(list_)\n",
    "    pages[int(pag.split()[0])] = aux\n"
   ]
  },
  {
   "cell_type": "code",
   "execution_count": 6,
   "metadata": {},
   "outputs": [],
   "source": [
    "\"\"\"\n",
    "usage of write/read pickle to save and read without re-run the cose\n",
    "\"\"\"\n",
    "write_pickle('data/pages.pkl', pages)"
   ]
  },
  {
   "cell_type": "code",
   "execution_count": 7,
   "metadata": {
    "scrolled": true
   },
   "outputs": [],
   "source": [
    "pages = read_pickle('data/pages.pkl')"
   ]
  },
  {
   "cell_type": "markdown",
   "metadata": {},
   "source": [
    "In this step, we work with categories in two main steps: \n",
    "1. Since the provided dataset has been reduced from the entire one taking into account only pages belonging to categories with a length between 5000 and 30000, we considered categories within this margin.\n",
    "2. Since each page (node) in the graph must belong to a single category, we created a structure in which each page in the graph (dictionary key) contains (as values) a list with all the categories to which that page belongs. "
   ]
  },
  {
   "cell_type": "code",
   "execution_count": 8,
   "metadata": {},
   "outputs": [
    {
     "name": "stderr",
     "output_type": "stream",
     "text": [
      "17364it [00:01, 13840.95it/s]\n"
     ]
    }
   ],
   "source": [
    "\"\"\"\n",
    "keys: number of the page (article)\n",
    "values: [list of categories]\n",
    "\"\"\"\n",
    "\n",
    "# keys: number of the page (article)\n",
    "# values: [list of categories]\n",
    "cat = open(\"data/wiki-topcats-categories.txt\", \"r\")\n",
    "cat_per_pages = {}\n",
    "for i in tqdm(cat):\n",
    "    category = i.split()[0][9:-1]\n",
    "    page_in_cat = list(map(int, i.split()[1:]))\n",
    "\n",
    "    if len(page_in_cat) >5000 and len(page_in_cat) < 30000:\n",
    "        for x in page_in_cat:\n",
    "            if x not in cat_per_pages:\n",
    "                a= []\n",
    "                a.append(category)\n",
    "                cat_per_pages[x]=a\n",
    "            else: \n",
    "                aux = list(cat_per_pages[x])\n",
    "                aux.append(category)\n",
    "                cat_per_pages[x]= aux"
   ]
  },
  {
   "cell_type": "markdown",
   "metadata": {},
   "source": [
    "As mentioned above, since a page must belong to only one category, the above structure allows us to choose only one category per page by choosing one randomly. "
   ]
  },
  {
   "cell_type": "code",
   "execution_count": 9,
   "metadata": {},
   "outputs": [
    {
     "name": "stderr",
     "output_type": "stream",
     "text": [
      "100%|██████████| 149794/149794 [00:00<00:00, 450596.18it/s]\n"
     ]
    }
   ],
   "source": [
    "\"\"\"\n",
    "keys: number of the page (article)\n",
    "values: category chosen at random and referring to that page\n",
    "\"\"\"\n",
    "one_cat_per_pages = {}\n",
    "for key, elem in tqdm(cat_per_pages.items()):\n",
    "    one_cat_per_pages[key] = random.choices(elem, k = 1)\n"
   ]
  },
  {
   "cell_type": "code",
   "execution_count": 10,
   "metadata": {},
   "outputs": [],
   "source": [
    "write_pickle('data/one_cat_per_pages.pkl', one_cat_per_pages)"
   ]
  },
  {
   "cell_type": "code",
   "execution_count": 11,
   "metadata": {},
   "outputs": [],
   "source": [
    "one_cat_per_pages = read_pickle('data/one_cat_per_pages.pkl')"
   ]
  },
  {
   "cell_type": "markdown",
   "metadata": {},
   "source": [
    "Finally, we create a last dictionary that takes us back to the initial state, i.e. \n",
    "the name of the category and the pages (integers) in that category. \n",
    "This time, each page is linked to a single category."
   ]
  },
  {
   "cell_type": "code",
   "execution_count": 12,
   "metadata": {},
   "outputs": [
    {
     "name": "stderr",
     "output_type": "stream",
     "text": [
      "100%|██████████| 149794/149794 [00:02<00:00, 70069.10it/s]\n"
     ]
    }
   ],
   "source": [
    "\"\"\"\n",
    "keys: category chosen at random \n",
    "values: number of the pages (article) referring to the category\n",
    "\"\"\"\n",
    "categories_red = {}\n",
    "for key, elem in tqdm(one_cat_per_pages.items()):\n",
    "\n",
    "    if elem[0] not in categories_red:\n",
    "            a= []\n",
    "            a.append(key)\n",
    "            categories_red[elem[0]]=a\n",
    "    else: \n",
    "            aux = list(categories_red[elem[0]])\n",
    "            aux.append(key)\n",
    "            categories_red[elem[0]]= aux\n"
   ]
  },
  {
   "cell_type": "code",
   "execution_count": 13,
   "metadata": {},
   "outputs": [],
   "source": [
    "write_pickle('data/categories_red.pkl', categories_red)"
   ]
  },
  {
   "cell_type": "code",
   "execution_count": 14,
   "metadata": {},
   "outputs": [],
   "source": [
    "categories_red = read_pickle('data/categories_red.pkl')"
   ]
  },
  {
   "cell_type": "markdown",
   "metadata": {},
   "source": [
    "# RQ1"
   ]
  },
  {
   "cell_type": "markdown",
   "metadata": {},
   "source": [
    "Build the graph G=(V, E), where V is the set of articles and E the hyperlinks among them. Then, provide its basic information:\n",
    "\n",
    "Is the graph directed?\n",
    "How many articles are we considering?\n",
    "How many hyperlinks between pages exist?\n",
    "Compute the average number of links in an arbitrary page. What is the graph density? Do you believe that the graph is dense or sparse? Is the graph dense?\n",
    "Visualize the nodes' degree distribution"
   ]
  },
  {
   "cell_type": "code",
   "execution_count": 15,
   "metadata": {},
   "outputs": [],
   "source": [
    "data = pd.read_csv('data/dataset.csv')"
   ]
  },
  {
   "cell_type": "markdown",
   "metadata": {},
   "source": [
    "Creation of the Graph"
   ]
  },
  {
   "cell_type": "code",
   "execution_count": 16,
   "metadata": {},
   "outputs": [
    {
     "name": "stderr",
     "output_type": "stream",
     "text": [
      "100%|██████████| 98343/98343 [00:21<00:00, 4531.54it/s] \n"
     ]
    }
   ],
   "source": [
    "graph = get_graph_dictionary(data)"
   ]
  },
  {
   "cell_type": "code",
   "execution_count": 17,
   "metadata": {},
   "outputs": [],
   "source": [
    "write_pickle('data/graph.pkl', graph)"
   ]
  },
  {
   "cell_type": "code",
   "execution_count": 18,
   "metadata": {},
   "outputs": [],
   "source": [
    "graph = read_pickle('data/graph.pkl')"
   ]
  },
  {
   "cell_type": "markdown",
   "metadata": {},
   "source": [
    "Initialization of the Class Graph"
   ]
  },
  {
   "cell_type": "code",
   "execution_count": 19,
   "metadata": {},
   "outputs": [],
   "source": [
    "g = Graph(graph)"
   ]
  },
  {
   "cell_type": "markdown",
   "metadata": {},
   "source": [
    "### Is the graph directed?"
   ]
  },
  {
   "cell_type": "markdown",
   "metadata": {},
   "source": [
    "The graph is directed by construction, in fact it is composed of Source nodes and Target nodes. \n",
    "These nodes may repeat themselves, but are connected by single edges. \n",
    "Furthermore, it is possible to prove this by considering the adjacency matrix, in fact in general a graph can be represented by a sparse matrix. This means that the adjacency matrix of an directed graph is not necessarily symmetric. As shown below, the matrix is not symmetric. "
   ]
  },
  {
   "cell_type": "code",
   "execution_count": 20,
   "metadata": {},
   "outputs": [
    {
     "name": "stderr",
     "output_type": "stream",
     "text": [
      "/Users/domenicospoto/opt/anaconda3/envs/algotrading/lib/python3.7/site-packages/ipykernel_launcher.py:4: SparseEfficiencyWarning: Comparing sparse matrices using == is inefficient, try using != instead.\n",
      "  after removing the cwd from sys.path.\n"
     ]
    },
    {
     "name": "stdout",
     "output_type": "stream",
     "text": [
      "No symmetric\n"
     ]
    }
   ],
   "source": [
    "mat = sp.lil_matrix((max(g.vertices())+1,max(g.vertices())+1), dtype=int)\n",
    "# method to check if the matrix is symmetric\n",
    "rows, cols = IsSymmetric(mat, g)\n",
    "if np.cumsum((mat[cols, rows] == mat[rows, cols]).A)[-1] == mat[cols, rows].shape[1]:\n",
    "    print('Is symmetric')\n",
    "else:\n",
    "    print('No symmetric')"
   ]
  },
  {
   "cell_type": "markdown",
   "metadata": {},
   "source": [
    "### How many articles are we considering?"
   ]
  },
  {
   "cell_type": "markdown",
   "metadata": {},
   "source": [
    "We considered both Sources and Targets and took the unique values. This gives us the value of the total pages. "
   ]
  },
  {
   "cell_type": "code",
   "execution_count": 21,
   "metadata": {},
   "outputs": [
    {
     "name": "stdout",
     "output_type": "stream",
     "text": [
      "Aricles of the graph:\n",
      "98343\n"
     ]
    }
   ],
   "source": [
    "print(\"Aricles of the graph:\")\n",
    "print(len(g.vertices()))"
   ]
  },
  {
   "cell_type": "markdown",
   "metadata": {},
   "source": [
    "### How many hyperlinks between pages exist?"
   ]
  },
  {
   "cell_type": "code",
   "execution_count": 22,
   "metadata": {},
   "outputs": [
    {
     "name": "stdout",
     "output_type": "stream",
     "text": [
      "Hyperlinks of the graph:\n",
      "483094\n"
     ]
    }
   ],
   "source": [
    "print(\"Hyperlinks of the graph:\")\n",
    "print(len(g.edges()))"
   ]
  },
  {
   "cell_type": "markdown",
   "metadata": {},
   "source": [
    "### Compute the average number of links in an arbitrary page. What is the graph density? Do you believe that the graph is dense or sparse? Is the graph dense?"
   ]
  },
  {
   "cell_type": "code",
   "execution_count": 23,
   "metadata": {},
   "outputs": [
    {
     "name": "stdout",
     "output_type": "stream",
     "text": [
      "4.51\n"
     ]
    }
   ],
   "source": [
    "\"\"\"\n",
    "take only the first 100  pages and compute the average number of linkes per page\n",
    "\"\"\"\n",
    "list_ = []\n",
    "for i in range(100):\n",
    "    list_.append(average_number_pages1(g))\n",
    "    avg = sum(list_)/len(list_)\n",
    "print(avg)"
   ]
  },
  {
   "cell_type": "markdown",
   "metadata": {},
   "source": [
    "Here we compute the density of the graph. \n",
    "Since our graph is directed, we can compute the density as follows:\n",
    "    $$D = \\frac{\\lvert{E}\\rvert}{2\\binom{\\lvert{V}\\rvert}{2}} = \\frac{\\lvert{E}\\rvert}{\\lvert{V}\\rvert(\\lvert{V}\\rvert - 1)}$$"
   ]
  },
  {
   "cell_type": "code",
   "execution_count": 24,
   "metadata": {},
   "outputs": [
    {
     "data": {
      "text/plain": [
       "4.9951571365597335e-05"
      ]
     },
     "execution_count": 24,
     "metadata": {},
     "output_type": "execute_result"
    }
   ],
   "source": [
    "density_graph(g)"
   ]
  },
  {
   "cell_type": "markdown",
   "metadata": {},
   "source": [
    "From the results, we may say that our graph is sparse because the density is close to 0."
   ]
  },
  {
   "cell_type": "markdown",
   "metadata": {},
   "source": [
    "### Visualize the nodes' degree distribution"
   ]
  },
  {
   "cell_type": "markdown",
   "metadata": {},
   "source": [
    "#### In degree Distribution "
   ]
  },
  {
   "cell_type": "markdown",
   "metadata": {},
   "source": [
    "At this point we have calculated the in degree distribution, i.e. the number of links entering a node. \n",
    "As the plot shows many nodes have a low number of in-links.  "
   ]
  },
  {
   "cell_type": "code",
   "execution_count": 25,
   "metadata": {},
   "outputs": [],
   "source": [
    "concat = [data['Source'], data['Target']]\n",
    "df_concat = pd.concat(concat)\n",
    "all_nodes = list(df_concat.unique())"
   ]
  },
  {
   "cell_type": "code",
   "execution_count": 26,
   "metadata": {},
   "outputs": [
    {
     "name": "stderr",
     "output_type": "stream",
     "text": [
      "100%|██████████| 483094/483094 [00:00<00:00, 1093403.03it/s]\n"
     ]
    }
   ],
   "source": [
    "d_aux = dict.fromkeys(all_nodes, 0)\n",
    "only_target_node = list(data.Target)\n",
    "for node in tqdm(only_target_node):\n",
    "    d_aux[node] +=1"
   ]
  },
  {
   "cell_type": "code",
   "execution_count": 27,
   "metadata": {},
   "outputs": [],
   "source": [
    "in_deg = Counter(sorted(list(d_aux.values())))\n",
    "y_in = np.array(list(in_deg.values()))\n",
    "y_in = y_in/len(g.vertices())\n",
    "x_in = list(in_deg.keys())"
   ]
  },
  {
   "cell_type": "code",
   "execution_count": 28,
   "metadata": {},
   "outputs": [
    {
     "data": {
      "image/png": "[encoded data removed]",
      "text/plain": [
       "<Figure size 936x432 with 1 Axes>"
      ]
     },
     "metadata": {
      "needs_background": "light"
     },
     "output_type": "display_data"
    }
   ],
   "source": [
    "plt.figure(figsize=(13,6))\n",
    "plt.bar(x_in , y_in,\n",
    "        color=(0.2, 0.4, 0.6, 0.6),\n",
    "        edgecolor='blue')\n",
    "plt.title(\"In Degree distribution of the firts 50 nodes \")\n",
    "plt.xlabel(\"In-degree\")\n",
    "plt.ylabel(\"Probability of node with in-degree = k \")\n",
    "plt.xlim(-1, 60)\n",
    "plt.show()"
   ]
  },
  {
   "cell_type": "markdown",
   "metadata": {},
   "source": [
    "#### Out-Degree"
   ]
  },
  {
   "cell_type": "markdown",
   "metadata": {},
   "source": [
    "Out-degree distribution is the numer of links that go out from an vertex. \n",
    "In this case we computed this value considering the lenght of the list of a source node. "
   ]
  },
  {
   "cell_type": "code",
   "execution_count": 29,
   "metadata": {},
   "outputs": [
    {
     "name": "stderr",
     "output_type": "stream",
     "text": [
      "100%|██████████| 98343/98343 [00:00<00:00, 1120274.09it/s]\n"
     ]
    }
   ],
   "source": [
    "out_deg_list = []\n",
    "for key,items in tqdm(g.graph_d.items()):\n",
    "    if isinstance(g.graph_d[key], list):\n",
    "         out_deg_list.append(len(g.graph_d[key]))\n",
    "    elif (isinstance(g.graph_d[key], int)): \n",
    "        out_deg_list.append(1) \n",
    "out_deg = Counter(sorted(out_deg_list))\n",
    "x_out = list(out_deg.keys())\n",
    "y_out =  np.array(list(out_deg.values()))/ len(g.vertices())"
   ]
  },
  {
   "cell_type": "code",
   "execution_count": 30,
   "metadata": {},
   "outputs": [
    {
     "data": {
      "image/png": "[encoded data removed]",
      "text/plain": [
       "<Figure size 936x432 with 1 Axes>"
      ]
     },
     "metadata": {
      "needs_background": "light"
     },
     "output_type": "display_data"
    }
   ],
   "source": [
    "plt.figure(figsize=(13,6))\n",
    "plt.bar(x_out, y_out,\n",
    "        color=(0.2, 0.4, 0.6, 0.6),\n",
    "        edgecolor='blue')\n",
    "plt.title(\"Out Degree distribution of the firts 50 nodes \")\n",
    "plt.xlabel(\"Out-degree\")\n",
    "plt.ylabel(\"Probability of node with out-degree = k \")\n",
    "plt.xlim(-1, 50)\n",
    "plt.show()"
   ]
  },
  {
   "cell_type": "markdown",
   "metadata": {},
   "source": [
    "# RQ2"
   ]
  },
  {
   "cell_type": "markdown",
   "metadata": {},
   "source": [
    "Define a function that takes in input:\n",
    "\n",
    "A page v\n",
    "A number of clicks d\n",
    "and returns the set of all pages that a user can reach within d clicks."
   ]
  },
  {
   "cell_type": "code",
   "execution_count": 31,
   "metadata": {},
   "outputs": [],
   "source": [
    "dic = defaultdict(list)  # Creating default dictionary to store Source as key and Value as Target\n",
    "for key,value in zip(data['Source'],data['Target']): \n",
    "    dic[str(key)].append(str(value))"
   ]
  },
  {
   "cell_type": "markdown",
   "metadata": {},
   "source": [
    "Given the starting page, this function returns all the possible pages reached in n clicks."
   ]
  },
  {
   "cell_type": "code",
   "execution_count": 32,
   "metadata": {},
   "outputs": [
    {
     "name": "stdout",
     "output_type": "stream",
     "text": [
      " Enter page number 108\n",
      " Enter number of clicks 2\n",
      "User can reach 44 pages after 2 clicks\n"
     ]
    }
   ],
   "source": [
    "try:\n",
    "    page = input(\" Enter page number \")\n",
    "    click = input(\" Enter number of clicks \")\n",
    "    if page!='' or click!='':\n",
    "        total_pages = pages_reached(page,int(click),dic)\n",
    "        if len(total_pages)!=0:\n",
    "            print(\"User can reach {} pages after {} clicks\".format(len(total_pages),click))\n",
    "        else:\n",
    "            print(\"There is no link for this page, Kindly try with another page\")\n",
    "    else:\n",
    "        print(\" *********** Kindly provide valid input  **********\")\n",
    "except ValueError:\n",
    "    print(\"No valid input! Please try again ...\")"
   ]
  },
  {
   "cell_type": "markdown",
   "metadata": {},
   "source": [
    "# RQ3"
   ]
  },
  {
   "cell_type": "markdown",
   "metadata": {},
   "source": [
    "Define a function that takes in input:\n",
    "- A category C\n",
    "- A set of pages in C, p = {p1, ..., pn}\n",
    "\n",
    "and returns the minimum number of clicks required to reach all pages in p, starting from the page v, corresponding to the most central article, according to the in-degree centrality, in C."
   ]
  },
  {
   "cell_type": "code",
   "execution_count": 33,
   "metadata": {
    "scrolled": true
   },
   "outputs": [
    {
     "name": "stdout",
     "output_type": "stream",
     "text": [
      "Write the category\n",
      "English_footballers\n",
      "\n",
      "Write the set of pages in the category chosen separated by a ',':\n",
      "48718, 75321, 28961\n",
      "\n",
      "Reached vertex are: [75321, 48718]\n",
      "Minimum number of clicks, from most central article 82082 to reach the set of pages, is 75752.\n",
      "Not possible to reach [28961]\n"
     ]
    }
   ],
   "source": [
    "minimum_number_clicks(g.graph_d, categories_red, data)"
   ]
  },
  {
   "cell_type": "markdown",
   "metadata": {},
   "source": [
    "Within the function \"minimum_number_clicks\", we built the function called \"most_central_article\" which looks for the most central article in the category chosen. As measure of centrality we used the in-degree centrality to get in-degree values of each vertex in the chosen category.\n",
    "\n",
    "Since we are using the Breadth First Search to search for all the neighbors close to the most central article, at worst we can have a time complexity of O(V+E) where V is number of vertices in the graph and E is number of edges in the graph. Keep in mind that not all the vertices are reachable from the most central article, so there can be cases where the articles chosen are not possible to reach."
   ]
  },
  {
   "cell_type": "markdown",
   "metadata": {},
   "source": [
    "# RQ4"
   ]
  },
  {
   "cell_type": "markdown",
   "metadata": {},
   "source": [
    "Given in input two categories: C1 and C2, we get the subgraph induced by all the articles in the two categories.\n",
    "\n",
    "Let v and u two arbitrary pages in the subgraph. What is the minimum set of hyperlinks one can remove to disconnect u and v?"
   ]
  },
  {
   "cell_type": "markdown",
   "metadata": {},
   "source": [
    "In this question we were asked to implement a function that, given two categories as input, would return the subgraph induced by all the pages belonging to those two categories.\n",
    "\n",
    "Our reasoning in creating the function below was that the best course of action would be to consider all those pages that could be found in the \"source\" and \"target\" columns of the main dataset, that being ds. In this way, we could avoid selecting many of those pages found in these categories that have no links to any other page. So in the cat_subgraph function we firstly selected all the pages belonging to the two categories and then created a subset of the main dataset, taking into account only the pages belonging to edges that either connect the two categories or are within the categories themselves."
   ]
  },
  {
   "cell_type": "code",
   "execution_count": 34,
   "metadata": {},
   "outputs": [
    {
     "name": "stderr",
     "output_type": "stream",
     "text": [
      "100%|██████████| 10923/10923 [00:01<00:00, 5784.14it/s]\n"
     ]
    }
   ],
   "source": [
    "sub_graph = cat_subgraph('Main_Belt_asteroids', \n",
    "                         'Asteroids_named_for_people', \n",
    "                         categories_red, \n",
    "                         data)"
   ]
  },
  {
   "cell_type": "markdown",
   "metadata": {},
   "source": [
    "Once the structure of the subgraph is computed as a dictionary, we can apply the Graph class to it."
   ]
  },
  {
   "cell_type": "code",
   "execution_count": 35,
   "metadata": {},
   "outputs": [],
   "source": [
    "sub_g = Graph(sub_graph)"
   ]
  },
  {
   "cell_type": "code",
   "execution_count": 36,
   "metadata": {},
   "outputs": [],
   "source": [
    "for key,val in sub_graph.items():\n",
    "    if isinstance(sub_graph[key], int):\n",
    "        sub_graph[key] = [sub_graph[key]]"
   ]
  },
  {
   "cell_type": "markdown",
   "metadata": {},
   "source": [
    "#### second function"
   ]
  },
  {
   "cell_type": "markdown",
   "metadata": {},
   "source": [
    "For the second question of this request, we created two additional functions. The first one finds all the hyperlinks that connect the two nodes given as input, within the subgraph of their categories.\n",
    "\n",
    "It must be noted that, because of the preprocessing, not every pair of nodes has a meaningful output for this function. This is because many paths are missing in our dataframe, so that it is not possible to go from any node to any other node in the way we would in the complete Wikipedia. In fact, we observed that most of the nodes that have links are actually part of clusters of nodes, that is group of nodes that are connected to each other through paths. One such cluster is found as the output of this function."
   ]
  },
  {
   "cell_type": "code",
   "execution_count": 37,
   "metadata": {},
   "outputs": [
    {
     "data": {
      "text/plain": [
       "[[865445, 865447, 865446, 865449],\n",
       " [865445, 865447, 865449],\n",
       " [865445, 865446, 865447, 865449],\n",
       " [865445, 865446, 865449],\n",
       " [865445, 865449]]"
      ]
     },
     "execution_count": 37,
     "metadata": {},
     "output_type": "execute_result"
    }
   ],
   "source": [
    "find_hyperlinks(sub_graph, 865445, 865449)"
   ]
  },
  {
   "cell_type": "markdown",
   "metadata": {},
   "source": [
    "The second function returns the amount of paths found, which comprises the minimum number of links that need to be cut in order to disconnect the two nodes."
   ]
  },
  {
   "cell_type": "code",
   "execution_count": 38,
   "metadata": {},
   "outputs": [
    {
     "data": {
      "text/plain": [
       "5"
      ]
     },
     "execution_count": 38,
     "metadata": {},
     "output_type": "execute_result"
    }
   ],
   "source": [
    "min_hyperlinks(sub_graph, 865445, 865449)"
   ]
  },
  {
   "cell_type": "markdown",
   "metadata": {},
   "source": [
    "# RQ5"
   ]
  },
  {
   "cell_type": "markdown",
   "metadata": {},
   "source": [
    "For the fifth question we had to write a function that would return the distance between a category given as input and every other category in our dataframe.\n",
    "\n",
    "As previously stated, because of the preprocessing and limitedness of the dataframe, many of the paths between nodes are missing, so that it is not possible to draw a complete path between any pair of nodes. For this reason, in the final output many distances are missing.\n"
   ]
  },
  {
   "cell_type": "markdown",
   "metadata": {},
   "source": [
    "Since the computational time for this operation might be high, we have considered some examples for the following categories as tests. \n",
    "Since the categories have been assigned to the pages randomly, there could be several categories.  "
   ]
  },
  {
   "cell_type": "code",
   "execution_count": 39,
   "metadata": {},
   "outputs": [
    {
     "name": "stdout",
     "output_type": "stream",
     "text": [
      "+---------------------------------------------------------------------+\n",
      "|                          Avaible Categories                         |\n",
      "+---------------------------------------------------------------------+\n",
      "|                         English_footballers                         |\n",
      "|                        Year_of_birth_missing                        |\n",
      "|                     The_Football_League_players                     |\n",
      "|                   Association_football_midfielders                  |\n",
      "|                    Association_football_forwards                    |\n",
      "|                    Association_football_defenders                   |\n",
      "|                        Year_of_death_missing                        |\n",
      "|                Place_of_birth_missing_(living_people)               |\n",
      "| Members_of_the_United_Kingdom_Parliament_for_English_constituencies |\n",
      "|                      Harvard_University_alumni                      |\n",
      "|                         American_film_actors                        |\n",
      "|                      American_television_actors                     |\n",
      "|                    Major_League_Baseball_pitchers                   |\n",
      "|                             Indian_films                            |\n",
      "|                            American_films                           |\n",
      "|                        English-language_films                       |\n",
      "|                        Black-and-white_films                        |\n",
      "|                          Rivers_of_Romania                          |\n",
      "|                      Asteroids_named_for_people                     |\n",
      "|                         Main_Belt_asteroids                         |\n",
      "|                             Debut_albums                            |\n",
      "+---------------------------------------------------------------------+\n"
     ]
    }
   ],
   "source": [
    "t = PrettyTable(['Avaible Categories'])\n",
    "for key,elem in categories_red.items():\n",
    "    t.add_row([key])\n",
    "print(t)"
   ]
  },
  {
   "cell_type": "code",
   "execution_count": 42,
   "metadata": {
    "scrolled": true
   },
   "outputs": [
    {
     "name": "stdout",
     "output_type": "stream",
     "text": [
      "Association_football_forwards\n"
     ]
    },
    {
     "name": "stderr",
     "output_type": "stream",
     "text": [
      "  0%|          | 0/21 [00:00<?, ?it/s]\n",
      "  0%|          | 0/4821 [00:00<?, ?it/s]\u001b[A\n",
      "  4%|▍         | 186/4821 [00:00<00:02, 1855.01it/s]\u001b[A\n",
      " 10%|▉         | 469/4821 [00:00<00:01, 2425.95it/s]\u001b[A\n",
      " 16%|█▋        | 794/4821 [00:00<00:01, 2799.53it/s]\u001b[A\n",
      " 23%|██▎       | 1109/4821 [00:00<00:01, 2937.30it/s]\u001b[A\n",
      " 30%|███       | 1468/4821 [00:00<00:01, 3172.38it/s]\u001b[A\n",
      " 38%|███▊      | 1855/4821 [00:00<00:00, 3408.29it/s]\u001b[A\n",
      " 46%|████▋     | 2230/4821 [00:00<00:00, 3518.06it/s]\u001b[A\n",
      " 54%|█████▍    | 2611/4821 [00:00<00:00, 3610.59it/s]\u001b[A\n",
      " 62%|██████▏   | 2973/4821 [00:00<00:00, 3561.79it/s]\u001b[A\n",
      " 69%|██████▉   | 3330/4821 [00:01<00:00, 3537.28it/s]\u001b[A\n",
      "100%|██████████| 4821/4821 [00:01<00:00, 3990.34it/s]\u001b[A\n",
      "  5%|▍         | 1/21 [00:54<18:03, 54.17s/it]\n",
      "  0%|          | 0/2398 [00:00<?, ?it/s]\u001b[A\n",
      " 12%|█▏        | 297/2398 [00:00<00:00, 2958.78it/s]\u001b[A\n",
      " 25%|██▍       | 593/2398 [00:00<00:00, 2758.06it/s]\u001b[A\n",
      " 40%|███▉      | 955/2398 [00:00<00:00, 3134.72it/s]\u001b[A\n",
      " 55%|█████▍    | 1309/2398 [00:00<00:00, 3289.55it/s]\u001b[A\n",
      " 70%|██████▉   | 1667/2398 [00:00<00:00, 3390.64it/s]\u001b[A\n",
      "100%|██████████| 2398/2398 [00:00<00:00, 3839.02it/s]\u001b[A\n",
      " 10%|▉         | 2/21 [01:16<11:08, 35.19s/it]\n",
      "  0%|          | 0/4778 [00:00<?, ?it/s]\u001b[A\n",
      "  7%|▋         | 346/4778 [00:00<00:01, 3451.30it/s]\u001b[A\n",
      " 14%|█▍        | 692/4778 [00:00<00:01, 3378.88it/s]\u001b[A\n",
      " 22%|██▏       | 1030/4778 [00:00<00:01, 3233.03it/s]\u001b[A\n",
      " 28%|██▊       | 1354/4778 [00:00<00:01, 3197.89it/s]\u001b[A\n",
      " 35%|███▌      | 1675/4778 [00:00<00:00, 3173.24it/s]\u001b[A\n",
      " 42%|████▏     | 1993/4778 [00:00<00:00, 3118.06it/s]\u001b[A\n",
      " 48%|████▊     | 2305/4778 [00:00<00:00, 2833.97it/s]\u001b[A\n",
      " 57%|█████▋    | 2719/4778 [00:00<00:00, 3214.86it/s]\u001b[A\n",
      " 64%|██████▍   | 3047/4778 [00:00<00:00, 3199.34it/s]\u001b[A\n",
      " 71%|███████   | 3394/4778 [00:01<00:00, 3277.02it/s]\u001b[A\n",
      "100%|██████████| 4778/4778 [00:01<00:00, 3855.07it/s]\u001b[A\n",
      " 14%|█▍        | 3/21 [02:14<13:46, 45.94s/it]\n",
      "  0%|          | 0/4192 [00:00<?, ?it/s]\u001b[A\n",
      "  8%|▊         | 340/4192 [00:00<00:01, 3397.05it/s]\u001b[A\n",
      " 17%|█▋        | 729/4192 [00:00<00:00, 3684.30it/s]\u001b[A\n",
      " 26%|██▌       | 1098/4192 [00:00<00:00, 3670.29it/s]\u001b[A\n",
      " 35%|███▍      | 1466/4192 [00:00<00:00, 3589.48it/s]\u001b[A\n",
      " 45%|████▍     | 1877/4192 [00:00<00:00, 3771.45it/s]\u001b[A\n",
      " 55%|█████▌    | 2311/4192 [00:00<00:00, 3958.78it/s]\u001b[A\n",
      " 66%|██████▋   | 2783/4192 [00:00<00:00, 4204.13it/s]\u001b[A\n",
      "100%|██████████| 4192/4192 [00:00<00:00, 4791.04it/s]\u001b[A\n",
      " 19%|█▉        | 4/21 [02:55<12:24, 43.82s/it]\n",
      "  0%|          | 0/3374 [00:00<?, ?it/s]\u001b[A\n",
      "  9%|▉         | 300/3374 [00:00<00:01, 2995.24it/s]\u001b[A\n",
      " 20%|█▉        | 660/3374 [00:00<00:00, 3349.84it/s]\u001b[A\n",
      " 32%|███▏      | 1082/3374 [00:00<00:00, 3744.74it/s]\u001b[A\n",
      " 44%|████▍     | 1499/3374 [00:00<00:00, 3911.94it/s]\u001b[A\n",
      " 57%|█████▋    | 1919/3374 [00:00<00:00, 4015.56it/s]\u001b[A\n",
      " 69%|██████▉   | 2326/3374 [00:00<00:00, 4029.94it/s]\u001b[A\n",
      "100%|██████████| 3374/3374 [00:00<00:00, 4565.57it/s]\u001b[A\n",
      " 29%|██▊       | 6/21 [03:27<07:15, 29.06s/it]\n",
      "  0%|          | 0/2417 [00:00<?, ?it/s]\u001b[A\n",
      " 17%|█▋        | 415/2417 [00:00<00:00, 4147.58it/s]\u001b[A\n",
      " 35%|███▍      | 843/2417 [00:00<00:00, 4223.89it/s]\u001b[A\n",
      " 54%|█████▍    | 1311/2417 [00:00<00:00, 4431.36it/s]\u001b[A\n",
      "100%|██████████| 2417/2417 [00:00<00:00, 5364.12it/s]\u001b[A\n",
      " 33%|███▎      | 7/21 [03:47<06:13, 26.67s/it]\n",
      "  0%|          | 0/2393 [00:00<?, ?it/s]\u001b[A\n",
      " 16%|█▌        | 383/2393 [00:00<00:00, 3827.61it/s]\u001b[A\n",
      " 32%|███▏      | 769/2393 [00:00<00:00, 3840.92it/s]\u001b[A\n",
      " 48%|████▊     | 1160/2393 [00:00<00:00, 3871.38it/s]\u001b[A\n",
      "100%|██████████| 2393/2393 [00:00<00:00, 4962.90it/s]\u001b[A\n",
      " 38%|███▊      | 8/21 [04:22<06:16, 28.97s/it]\n",
      "  0%|          | 0/8085 [00:00<?, ?it/s]\u001b[A\n",
      "  5%|▍         | 377/8085 [00:00<00:02, 3764.81it/s]\u001b[A\n",
      "  9%|▉         | 754/8085 [00:00<00:02, 3606.97it/s]\u001b[A\n",
      " 14%|█▍        | 1131/8085 [00:00<00:01, 3676.42it/s]\u001b[A\n",
      " 19%|█▊        | 1500/8085 [00:00<00:01, 3558.38it/s]\u001b[A\n",
      " 23%|██▎       | 1857/8085 [00:00<00:01, 3383.21it/s]\u001b[A\n",
      " 27%|██▋       | 2197/8085 [00:00<00:01, 3254.64it/s]\u001b[A\n",
      " 31%|███       | 2524/8085 [00:00<00:01, 3218.24it/s]\u001b[A\n",
      " 35%|███▌      | 2847/8085 [00:00<00:01, 3139.82it/s]\u001b[A\n",
      " 39%|███▉      | 3162/8085 [00:00<00:01, 3058.40it/s]\u001b[A\n",
      " 43%|████▎     | 3484/8085 [00:01<00:01, 3104.04it/s]\u001b[A\n",
      " 47%|████▋     | 3820/8085 [00:01<00:01, 3177.09it/s]\u001b[A\n",
      " 51%|█████     | 4139/8085 [00:01<00:01, 3092.00it/s]\u001b[A\n",
      " 55%|█████▌    | 4449/8085 [00:01<00:01, 2835.85it/s]\u001b[A\n",
      " 59%|█████▊    | 4738/8085 [00:01<00:01, 2850.66it/s]\u001b[A\n",
      " 62%|██████▏   | 5035/8085 [00:01<00:01, 2881.55it/s]\u001b[A\n",
      " 66%|██████▌   | 5343/8085 [00:01<00:00, 2936.09it/s]\u001b[A\n",
      " 70%|██████▉   | 5639/8085 [00:01<00:00, 2932.70it/s]\u001b[A\n",
      " 74%|███████▎  | 5962/8085 [00:01<00:00, 3018.25it/s]\u001b[A\n",
      " 78%|███████▊  | 6309/8085 [00:02<00:00, 3149.62it/s]\u001b[A\n",
      " 82%|████████▏ | 6654/8085 [00:02<00:00, 3238.58it/s]\u001b[A\n",
      " 87%|████████▋ | 7006/8085 [00:02<00:00, 3321.82it/s]\u001b[A\n",
      " 91%|█████████ | 7369/8085 [00:02<00:00, 3413.57it/s]\u001b[A\n",
      "100%|██████████| 8085/8085 [00:02<00:00, 3340.07it/s]\u001b[A\n",
      " 43%|████▎     | 9/21 [05:59<09:41, 48.50s/it]\n",
      "  0%|          | 0/4081 [00:00<?, ?it/s]\u001b[A\n",
      " 10%|▉         | 391/4081 [00:00<00:00, 3906.60it/s]\u001b[A\n",
      " 19%|█▉        | 788/4081 [00:00<00:00, 3940.18it/s]\u001b[A\n",
      " 29%|██▉       | 1190/4081 [00:00<00:00, 3974.64it/s]\u001b[A\n",
      " 39%|███▉      | 1593/4081 [00:00<00:00, 3992.19it/s]\u001b[A\n",
      " 49%|████▉     | 1993/4081 [00:00<00:00, 3991.74it/s]\u001b[A\n",
      " 60%|█████▉    | 2443/4081 [00:00<00:00, 4162.88it/s]\u001b[A\n",
      " 70%|███████   | 2860/4081 [00:00<00:00, 4157.37it/s]\u001b[A\n",
      "100%|██████████| 4081/4081 [00:00<00:00, 4781.49it/s]\u001b[A\n",
      " 48%|████▊     | 10/21 [06:41<08:33, 46.68s/it]\n",
      "  0%|          | 0/7822 [00:00<?, ?it/s]\u001b[A\n",
      "  3%|▎         | 233/7822 [00:00<00:03, 2323.03it/s]\u001b[A\n",
      "  7%|▋         | 555/7822 [00:00<00:02, 2845.41it/s]\u001b[A\n",
      " 12%|█▏        | 964/7822 [00:00<00:02, 3412.44it/s]\u001b[A\n",
      " 17%|█▋        | 1334/7822 [00:00<00:01, 3524.09it/s]\u001b[A\n",
      " 22%|██▏       | 1687/7822 [00:00<00:01, 3521.92it/s]\u001b[A\n",
      " 26%|██▌       | 2050/7822 [00:00<00:01, 3549.66it/s]\u001b[A\n",
      " 31%|███       | 2405/7822 [00:00<00:01, 3531.92it/s]\u001b[A\n",
      " 35%|███▌      | 2759/7822 [00:00<00:01, 3488.37it/s]\u001b[A\n",
      " 40%|███▉      | 3108/7822 [00:00<00:01, 3324.22it/s]\u001b[A\n",
      " 44%|████▍     | 3442/7822 [00:01<00:01, 3285.67it/s]\u001b[A\n",
      " 49%|████▊     | 3803/7822 [00:01<00:01, 3380.60it/s]\u001b[A\n",
      " 53%|█████▎    | 4143/7822 [00:01<00:01, 3338.81it/s]\u001b[A\n",
      " 57%|█████▋    | 4478/7822 [00:01<00:01, 3248.85it/s]\u001b[A\n",
      " 61%|██████▏   | 4808/7822 [00:01<00:00, 3262.22it/s]\u001b[A\n",
      " 66%|██████▌   | 5135/7822 [00:01<00:00, 3258.81it/s]\u001b[A\n",
      " 70%|███████   | 5480/7822 [00:01<00:00, 3312.32it/s]\u001b[A\n",
      " 74%|███████▍  | 5812/7822 [00:01<00:00, 3280.83it/s]\u001b[A\n",
      " 79%|███████▊  | 6151/7822 [00:01<00:00, 3312.84it/s]\u001b[A\n",
      " 83%|████████▎ | 6511/7822 [00:01<00:00, 3396.66it/s]\u001b[A\n",
      "100%|██████████| 7822/7822 [00:02<00:00, 3658.88it/s]\u001b[A\n",
      " 52%|█████▏    | 11/21 [08:55<12:00, 72.08s/it]\n",
      "  0%|          | 0/5794 [00:00<?, ?it/s]\u001b[A\n",
      "  6%|▋         | 373/5794 [00:00<00:01, 3721.37it/s]\u001b[A\n",
      " 13%|█▎        | 764/5794 [00:00<00:01, 3829.54it/s]\u001b[A\n",
      " 20%|██        | 1166/5794 [00:00<00:01, 3914.84it/s]\u001b[A\n",
      " 27%|██▋       | 1558/5794 [00:00<00:01, 3826.37it/s]\u001b[A\n",
      " 34%|███▎      | 1949/5794 [00:00<00:00, 3851.61it/s]\u001b[A\n",
      " 40%|████      | 2335/5794 [00:00<00:00, 3730.72it/s]\u001b[A\n",
      " 47%|████▋     | 2709/5794 [00:00<00:00, 3606.03it/s]\u001b[A\n",
      " 53%|█████▎    | 3071/5794 [00:00<00:00, 3576.80it/s]\u001b[A\n",
      " 59%|█████▉    | 3430/5794 [00:00<00:00, 3547.62it/s]\u001b[A\n",
      " 65%|██████▌   | 3786/5794 [00:01<00:00, 3402.49it/s]\u001b[A\n",
      " 71%|███████   | 4128/5794 [00:01<00:00, 3357.30it/s]\u001b[A\n",
      " 78%|███████▊  | 4500/5794 [00:01<00:00, 3462.33it/s]\u001b[A\n",
      "100%|██████████| 5794/5794 [00:01<00:00, 4067.42it/s]\u001b[A\n",
      " 57%|█████▋    | 12/21 [10:22<11:28, 76.52s/it]\n",
      "  0%|          | 0/4897 [00:00<?, ?it/s]\u001b[A\n",
      "  7%|▋         | 350/4897 [00:00<00:01, 3498.00it/s]\u001b[A\n",
      " 15%|█▍        | 731/4897 [00:00<00:01, 3680.19it/s]\u001b[A\n",
      " 23%|██▎       | 1123/4897 [00:00<00:00, 3787.93it/s]\u001b[A\n",
      " 31%|███       | 1508/4897 [00:00<00:00, 3808.07it/s]\u001b[A\n",
      " 39%|███▊      | 1889/4897 [00:00<00:00, 3781.35it/s]\u001b[A\n",
      " 46%|████▋     | 2268/4897 [00:00<00:00, 3709.37it/s]\u001b[A\n",
      " 54%|█████▍    | 2640/4897 [00:00<00:00, 3580.59it/s]\u001b[A\n",
      " 61%|██████    | 2999/4897 [00:00<00:00, 3450.24it/s]\u001b[A\n",
      " 68%|██████▊   | 3346/4897 [00:00<00:00, 3332.69it/s]\u001b[A\n",
      " 76%|███████▌  | 3698/4897 [00:01<00:00, 3385.59it/s]\u001b[A\n"
     ]
    },
    {
     "name": "stderr",
     "output_type": "stream",
     "text": [
      "100%|██████████| 4897/4897 [00:01<00:00, 4224.90it/s]\u001b[A\n",
      " 62%|██████▏   | 13/21 [11:07<08:58, 67.31s/it]\n",
      "  0%|          | 0/3776 [00:00<?, ?it/s]\u001b[A\n",
      "  8%|▊         | 313/3776 [00:00<00:01, 3129.57it/s]\u001b[A\n",
      " 19%|█▉        | 716/3776 [00:00<00:00, 3657.91it/s]\u001b[A\n",
      " 30%|███       | 1150/3776 [00:00<00:00, 3966.71it/s]\u001b[A\n",
      " 41%|████▏     | 1563/3776 [00:00<00:00, 4027.32it/s]\u001b[A\n",
      " 52%|█████▏    | 1966/3776 [00:00<00:00, 3816.25it/s]\u001b[A\n",
      " 62%|██████▏   | 2350/3776 [00:00<00:00, 3351.11it/s]\u001b[A\n",
      "100%|██████████| 3776/3776 [00:00<00:00, 4503.52it/s]\u001b[A\n",
      "/Users/domenicospoto/opt/anaconda3/envs/algotrading/lib/python3.7/site-packages/numpy/core/fromnumeric.py:3373: RuntimeWarning: Mean of empty slice.\n",
      "  out=out, **kwargs)\n",
      "/Users/domenicospoto/opt/anaconda3/envs/algotrading/lib/python3.7/site-packages/numpy/core/_methods.py:170: RuntimeWarning: invalid value encountered in double_scalars\n",
      "  ret = ret.dtype.type(ret / rcount)\n",
      " 67%|██████▋   | 14/21 [11:44<06:47, 58.21s/it]\n",
      "  0%|          | 0/3771 [00:00<?, ?it/s]\u001b[A\n",
      " 10%|▉         | 374/3771 [00:00<00:00, 3721.32it/s]\u001b[A\n",
      " 20%|█▉        | 747/3771 [00:00<00:00, 3613.98it/s]\u001b[A\n",
      " 31%|███       | 1158/3771 [00:00<00:00, 3836.23it/s]\u001b[A\n",
      " 41%|████      | 1554/3771 [00:00<00:00, 3883.20it/s]\u001b[A\n",
      " 53%|█████▎    | 1990/3771 [00:00<00:00, 4050.42it/s]\u001b[A\n",
      " 64%|██████▎   | 2396/3771 [00:00<00:00, 3889.67it/s]\u001b[A\n",
      " 76%|███████▌  | 2862/3771 [00:00<00:00, 4133.32it/s]\u001b[A\n",
      "100%|██████████| 3771/3771 [00:00<00:00, 4190.72it/s]\u001b[A\n",
      " 71%|███████▏  | 15/21 [13:29<07:13, 72.25s/it]\n",
      "  0%|          | 0/7680 [00:00<?, ?it/s]\u001b[A\n",
      "  5%|▌         | 388/7680 [00:00<00:01, 3879.31it/s]\u001b[A\n",
      " 10%|█         | 776/7680 [00:00<00:01, 3792.51it/s]\u001b[A\n",
      " 15%|█▌        | 1156/7680 [00:00<00:01, 3640.72it/s]\u001b[A\n",
      " 20%|█▉        | 1521/7680 [00:00<00:01, 3510.02it/s]\u001b[A\n",
      " 25%|██▍       | 1885/7680 [00:00<00:01, 3552.10it/s]\u001b[A\n",
      " 29%|██▉       | 2241/7680 [00:00<00:01, 3127.84it/s]\u001b[A\n",
      " 34%|███▍      | 2634/7680 [00:00<00:01, 3362.08it/s]\u001b[A\n",
      " 39%|███▉      | 2992/7680 [00:00<00:01, 3424.96it/s]\u001b[A\n",
      " 44%|████▎     | 3351/7680 [00:00<00:01, 3471.47it/s]\u001b[A\n",
      " 48%|████▊     | 3703/7680 [00:01<00:01, 3437.08it/s]\u001b[A\n",
      " 53%|█████▎    | 4050/7680 [00:01<00:01, 3393.71it/s]\u001b[A\n",
      " 57%|█████▋    | 4411/7680 [00:01<00:00, 3455.98it/s]\u001b[A\n",
      " 62%|██████▏   | 4769/7680 [00:01<00:00, 3490.21it/s]\u001b[A\n",
      " 67%|██████▋   | 5159/7680 [00:01<00:00, 3611.50it/s]\u001b[A\n",
      " 73%|███████▎  | 5576/7680 [00:01<00:00, 3777.45it/s]\u001b[A\n",
      " 78%|███████▊  | 5974/7680 [00:01<00:00, 3836.43it/s]\u001b[A\n",
      "100%|██████████| 7680/7680 [00:01<00:00, 4247.98it/s]\u001b[A\n",
      " 76%|███████▌  | 16/21 [16:29<08:42, 104.56s/it]\n",
      "  0%|          | 0/3391 [00:00<?, ?it/s]\u001b[A\n",
      " 13%|█▎        | 429/3391 [00:00<00:00, 4282.07it/s]\u001b[A\n",
      " 25%|██▌       | 860/3391 [00:00<00:00, 4294.22it/s]\u001b[A\n",
      " 38%|███▊      | 1290/3391 [00:00<00:00, 4208.68it/s]\u001b[A\n",
      " 51%|█████▏    | 1746/3391 [00:00<00:00, 4344.41it/s]\u001b[A\n",
      " 64%|██████▍   | 2182/3391 [00:00<00:00, 4347.68it/s]\u001b[A\n",
      "100%|██████████| 3391/3391 [00:00<00:00, 5200.42it/s]\u001b[A\n",
      " 81%|████████  | 17/21 [17:35<06:11, 92.85s/it] \n",
      "  0%|          | 0/9323 [00:00<?, ?it/s]\u001b[A\n",
      "  3%|▎         | 277/9323 [00:00<00:03, 2761.02it/s]\u001b[A\n",
      "  6%|▌         | 570/9323 [00:00<00:03, 2857.65it/s]\u001b[A\n",
      " 11%|█         | 1005/9323 [00:00<00:02, 3536.93it/s]\u001b[A\n",
      " 15%|█▌        | 1429/9323 [00:00<00:02, 3812.08it/s]\u001b[A\n",
      " 21%|██        | 1917/9323 [00:00<00:01, 4195.24it/s]\u001b[A\n",
      " 25%|██▌       | 2351/9323 [00:00<00:01, 4243.47it/s]\u001b[A\n",
      " 30%|██▉       | 2776/9323 [00:00<00:01, 4141.18it/s]\u001b[A\n",
      " 34%|███▍      | 3191/9323 [00:00<00:01, 4132.08it/s]\u001b[A\n",
      " 39%|███▊      | 3605/9323 [00:00<00:01, 4095.06it/s]\u001b[A\n",
      " 43%|████▎     | 4038/9323 [00:01<00:01, 4165.49it/s]\u001b[A\n",
      " 48%|████▊     | 4508/9323 [00:01<00:01, 4325.71it/s]\u001b[A\n",
      " 53%|█████▎    | 4957/9323 [00:01<00:00, 4375.09it/s]\u001b[A\n",
      " 58%|█████▊    | 5410/9323 [00:01<00:00, 4419.50it/s]\u001b[A\n",
      " 63%|██████▎   | 5853/9323 [00:01<00:00, 4314.75it/s]\u001b[A\n",
      " 67%|██████▋   | 6290/9323 [00:01<00:00, 4328.61it/s]\u001b[A\n",
      " 73%|███████▎  | 6785/9323 [00:01<00:00, 4512.70it/s]\u001b[A\n",
      " 78%|███████▊  | 7261/9323 [00:01<00:00, 4586.09it/s]\u001b[A\n",
      " 83%|████████▎ | 7740/9323 [00:01<00:00, 4645.04it/s]\u001b[A\n",
      " 88%|████████▊ | 8245/9323 [00:01<00:00, 4764.03it/s]\u001b[A\n",
      "100%|██████████| 9323/9323 [00:02<00:00, 4477.45it/s]\u001b[A\n",
      "/Users/domenicospoto/opt/anaconda3/envs/algotrading/lib/python3.7/site-packages/numpy/core/fromnumeric.py:3373: RuntimeWarning: Mean of empty slice.\n",
      "  out=out, **kwargs)\n",
      "/Users/domenicospoto/opt/anaconda3/envs/algotrading/lib/python3.7/site-packages/numpy/core/_methods.py:170: RuntimeWarning: invalid value encountered in double_scalars\n",
      "  ret = ret.dtype.type(ret / rcount)\n",
      " 86%|████████▌ | 18/21 [19:14<04:44, 94.75s/it]\n",
      "  0%|          | 0/1685 [00:00<?, ?it/s]\u001b[A\n",
      " 23%|██▎       | 381/1685 [00:00<00:00, 3805.44it/s]\u001b[A\n",
      " 45%|████▌     | 762/1685 [00:00<00:00, 3765.96it/s]\u001b[A\n",
      "100%|██████████| 1685/1685 [00:00<00:00, 4671.37it/s]\u001b[A\n",
      "/Users/domenicospoto/opt/anaconda3/envs/algotrading/lib/python3.7/site-packages/numpy/core/fromnumeric.py:3373: RuntimeWarning: Mean of empty slice.\n",
      "  out=out, **kwargs)\n",
      "/Users/domenicospoto/opt/anaconda3/envs/algotrading/lib/python3.7/site-packages/numpy/core/_methods.py:170: RuntimeWarning: invalid value encountered in double_scalars\n",
      "  ret = ret.dtype.type(ret / rcount)\n",
      " 90%|█████████ | 19/21 [19:43<02:30, 75.11s/it]\n",
      "  0%|          | 0/10260 [00:00<?, ?it/s]\u001b[A\n",
      "  4%|▍         | 406/10260 [00:00<00:02, 4054.76it/s]\u001b[A\n",
      "  8%|▊         | 812/10260 [00:00<00:02, 4041.90it/s]\u001b[A\n",
      " 12%|█▏        | 1252/10260 [00:00<00:02, 4204.37it/s]\u001b[A\n",
      " 18%|█▊        | 1829/10260 [00:00<00:01, 4819.75it/s]\u001b[A\n",
      " 24%|██▎       | 2415/10260 [00:00<00:01, 5193.17it/s]\u001b[A\n",
      " 29%|██▉       | 2990/10260 [00:00<00:01, 5377.96it/s]\u001b[A\n",
      " 35%|███▍      | 3551/10260 [00:00<00:01, 5452.43it/s]\u001b[A\n",
      " 40%|████      | 4132/10260 [00:00<00:01, 5565.97it/s]\u001b[A\n",
      " 46%|████▌     | 4723/10260 [00:00<00:00, 5671.71it/s]\u001b[A\n",
      " 52%|█████▏    | 5305/10260 [00:01<00:00, 5716.58it/s]\u001b[A\n",
      " 58%|█████▊    | 5903/10260 [00:01<00:00, 5795.03it/s]\u001b[A\n",
      " 63%|██████▎   | 6485/10260 [00:01<00:00, 5801.65it/s]\u001b[A\n",
      " 69%|██████▉   | 7075/10260 [00:01<00:00, 5828.82it/s]\u001b[A\n",
      " 75%|███████▍  | 7658/10260 [00:01<00:00, 5828.59it/s]\u001b[A\n",
      " 80%|████████  | 8241/10260 [00:01<00:00, 5828.73it/s]\u001b[A\n",
      " 86%|████████▌ | 8826/10260 [00:01<00:00, 5832.80it/s]\u001b[A\n",
      " 92%|█████████▏| 9410/10260 [00:01<00:00, 5721.14it/s]\u001b[A\n",
      "100%|██████████| 10260/10260 [00:01<00:00, 5656.07it/s]\u001b[A\n",
      " 95%|█████████▌| 20/21 [21:32<01:25, 85.29s/it]\n",
      "  0%|          | 0/2528 [00:00<?, ?it/s]\u001b[A\n",
      " 14%|█▍        | 352/2528 [00:00<00:00, 3512.59it/s]\u001b[A\n",
      " 30%|██▉       | 750/2528 [00:00<00:00, 3785.12it/s]\u001b[A\n",
      " 46%|████▋     | 1173/2528 [00:00<00:00, 3985.81it/s]\u001b[A\n",
      " 64%|██████▍   | 1619/2528 [00:00<00:00, 4167.13it/s]\u001b[A\n",
      "100%|██████████| 2528/2528 [00:00<00:00, 4888.52it/s]\u001b[A\n",
      "100%|██████████| 21/21 [22:04<00:00, 63.06s/it]\n"
     ]
    }
   ],
   "source": [
    "score = distances_from_category(input(),categories_red, data, all_nodes)"
   ]
  },
  {
   "cell_type": "code",
   "execution_count": 43,
   "metadata": {},
   "outputs": [
    {
     "name": "stdout",
     "output_type": "stream",
     "text": [
      "+---------------------------------------------------------------------+----------+\n",
      "|                              Categories                             | Distance |\n",
      "+---------------------------------------------------------------------+----------+\n",
      "|                      American_television_actors                     |   1.0    |\n",
      "|                    Association_football_defenders                   |   1.0    |\n",
      "|                   Association_football_midfielders                  |   1.0    |\n",
      "|                         English_footballers                         |   1.0    |\n",
      "|                     The_Football_League_players                     |   1.0    |\n",
      "|                         American_film_actors                        |   5.0    |\n",
      "|                    Major_League_Baseball_pitchers                   |   5.0    |\n",
      "|                             Debut_albums                            |   6.0    |\n",
      "| Members_of_the_United_Kingdom_Parliament_for_English_constituencies |   6.0    |\n",
      "|                Place_of_birth_missing_(living_people)               |   6.0    |\n",
      "|                        English-language_films                       |   7.0    |\n",
      "|                         Main_Belt_asteroids                         |   7.0    |\n",
      "|                            American_films                           |   8.0    |\n",
      "|                        Black-and-white_films                        |   8.0    |\n",
      "|                      Harvard_University_alumni                      |   8.0    |\n",
      "|                        Year_of_birth_missing                        |   10.0   |\n",
      "|                        Year_of_death_missing                        |   10.0   |\n",
      "+---------------------------------------------------------------------+----------+\n"
     ]
    }
   ],
   "source": [
    "pretty_table(score)"
   ]
  },
  {
   "cell_type": "markdown",
   "metadata": {},
   "source": [
    "We can see for the example given, the greater the correlation between the pages, the smaller the distance. "
   ]
  },
  {
   "cell_type": "markdown",
   "metadata": {},
   "source": [
    "Here, for the sake of consistency, we saved everything in a pickle file and iterated over all categories. This is just a fast example of computing the distance from a category to the remaining ones."
   ]
  },
  {
   "cell_type": "code",
   "execution_count": 45,
   "metadata": {},
   "outputs": [
    {
     "name": "stdout",
     "output_type": "stream",
     "text": [
      "Association_football_forwards\n",
      "+---------------------------------------------------------------------+----------+\n",
      "|                              Categories                             | Distance |\n",
      "+---------------------------------------------------------------------+----------+\n",
      "|                      American_television_actors                     |   1.0    |\n",
      "|                   Association_football_midfielders                  |   1.0    |\n",
      "|                         English_footballers                         |   1.0    |\n",
      "|                     The_Football_League_players                     |   1.0    |\n",
      "|                    Association_football_defenders                   |   2.0    |\n",
      "|                        English-language_films                       |   4.0    |\n",
      "|                         American_film_actors                        |   5.0    |\n",
      "|                            American_films                           |   5.0    |\n",
      "|                    Major_League_Baseball_pitchers                   |   5.0    |\n",
      "|                             Debut_albums                            |   6.0    |\n",
      "| Members_of_the_United_Kingdom_Parliament_for_English_constituencies |   6.0    |\n",
      "|                         Main_Belt_asteroids                         |   7.0    |\n",
      "|                        Year_of_birth_missing                        |   7.0    |\n",
      "|                        Black-and-white_films                        |   8.0    |\n",
      "|                      Harvard_University_alumni                      |   8.0    |\n",
      "|                Place_of_birth_missing_(living_people)               |   8.0    |\n",
      "|                        Year_of_death_missing                        |   8.0    |\n",
      "+---------------------------------------------------------------------+----------+\n"
     ]
    }
   ],
   "source": [
    "score_categories(input())"
   ]
  },
  {
   "cell_type": "markdown",
   "metadata": {},
   "source": [
    "# RQ6"
   ]
  },
  {
   "cell_type": "markdown",
   "metadata": {},
   "source": [
    "Write a function that sorts the categories in the graph according to their PageRank (PR). For this task you need to model the network of categories such that you can apply the PR algorithm."
   ]
  },
  {
   "cell_type": "code",
   "execution_count": 46,
   "metadata": {},
   "outputs": [
    {
     "name": "stderr",
     "output_type": "stream",
     "text": [
      "100%|██████████| 98343/98343 [01:08<00:00, 1444.70it/s]\n"
     ]
    }
   ],
   "source": [
    "inbound = inbound(data) #initialize the function\n",
    "outbound = out_bound(g) #initialize the function"
   ]
  },
  {
   "cell_type": "code",
   "execution_count": 47,
   "metadata": {},
   "outputs": [
    {
     "name": "stderr",
     "output_type": "stream",
     "text": [
      "100%|██████████| 21/21 [00:20<00:00,  1.02it/s]\n"
     ]
    }
   ],
   "source": [
    "rank = page_rank(100, categories_red, inbound, outbound) # implementation of the Page Rank algorithm"
   ]
  },
  {
   "cell_type": "code",
   "execution_count": 52,
   "metadata": {},
   "outputs": [
    {
     "name": "stdout",
     "output_type": "stream",
     "text": [
      "+---------------------------------------------------------------------+------------------------+-----------+\n",
      "|                              Categories                             |         Score          | Page Rank |\n",
      "+---------------------------------------------------------------------+------------------------+-----------+\n",
      "|                         American_film_actors                        | 9.582192715195594e-20  |     1     |\n",
      "|                        English-language_films                       | 0.0001281262812628126  |     2     |\n",
      "|                            American_films                           | 0.0001960413966484085  |     3     |\n",
      "|                      American_television_actors                     | 0.00021240441801189465 |     4     |\n",
      "|                             Debut_albums                            | 0.00023806689679800025 |     5     |\n",
      "|                Place_of_birth_missing_(living_people)               | 0.0003146993622342494  |     6     |\n",
      "|                      Asteroids_named_for_people                     | 0.0003255208333333333  |     7     |\n",
      "|                    Association_football_forwards                    | 0.0003595828838547285  |     8     |\n",
      "|                        Black-and-white_films                        | 0.0003613496953524575  |     9     |\n",
      "|                   Association_football_midfielders                  | 0.0003678634490876986  |     10    |\n",
      "|                        Year_of_birth_missing                        | 0.0004398311048554221  |     11    |\n",
      "|                    Association_football_defenders                   | 0.0005205625305054021  |     12    |\n",
      "|                             Indian_films                            | 0.0007043050187935197  |     13    |\n",
      "|                         English_footballers                         | 0.0007761049142130535  |     14    |\n",
      "|                        Year_of_death_missing                        | 0.0008424931477194293  |     15    |\n",
      "|                      Harvard_University_alumni                      | 0.0008661084722752655  |     16    |\n",
      "|                     The_Football_League_players                     |  0.000908719624259751  |     17    |\n",
      "|                    Major_League_Baseball_pitchers                   | 0.0013951062019399493  |     18    |\n",
      "| Members_of_the_United_Kingdom_Parliament_for_English_constituencies | 0.0015450802180035305  |     19    |\n",
      "|                          Rivers_of_Romania                          |  0.019209307947557666  |     20    |\n",
      "|                         Main_Belt_asteroids                         |  0.08335796561162415   |     21    |\n",
      "+---------------------------------------------------------------------+------------------------+-----------+\n"
     ]
    }
   ],
   "source": [
    "pretty_table_2(rank)"
   ]
  },
  {
   "cell_type": "markdown",
   "metadata": {},
   "source": [
    "The category with highest score is the \"Main_Belt_asteroids\" and the lowest score is \"American_film_actors\"."
   ]
  }
 ],
 "metadata": {
  "kernelspec": {
   "display_name": "Python 3",
   "language": "python",
   "name": "python3"
  },
  "language_info": {
   "codemirror_mode": {
    "name": "ipython",
    "version": 3
   },
   "file_extension": ".py",
   "mimetype": "text/x-python",
   "name": "python",
   "nbconvert_exporter": "python",
   "pygments_lexer": "ipython3",
   "version": "3.7.9"
  }
 },
 "nbformat": 4,
 "nbformat_minor": 4
}
